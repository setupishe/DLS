{
  "metadata": {
    "kernelspec": {
      "display_name": "Python 3",
      "language": "python",
      "name": "python3"
    },
    "language_info": {
      "name": "python",
      "version": "3.7.12",
      "mimetype": "text/x-python",
      "codemirror_mode": {
        "name": "ipython",
        "version": 3
      },
      "pygments_lexer": "ipython3",
      "nbconvert_exporter": "python",
      "file_extension": ".py"
    },
    "colab": {
      "provenance": [],
      "collapsed_sections": []
    },
    "widgets": {
      "application/vnd.jupyter.widget-state+json": {
        "083f82960985406888ebab0633077340": {
          "model_module": "catboost-widget",
          "model_name": "CatboostWidgetModel",
          "model_module_version": "^1.0.0",
          "state": {
            "_dom_classes": [],
            "_model_module": "catboost-widget",
            "_model_module_version": "^1.0.0",
            "_model_name": "CatboostWidgetModel",
            "_view_count": null,
            "_view_module": "catboost-widget",
            "_view_module_version": "^1.0.0",
            "_view_name": "CatboostWidgetView",
            "data": {
              "catboost_info": {
                "path": "catboost_info",
                "name": "catboost_info",
                "content": {
                  "passed_iterations": 68,
                  "total_iterations": 70,
                  "data": {
                    "iterations": [
                      {
                        "parameters": [
                          {
                            "learning_rate": 0.1,
                            "iterations": 100
                          }
                        ],
                        "learn": [
                          0.9034960395,
                          0.3422239576
                        ],
                        "iteration": 0,
                        "passed_time": 0.7354748903,
                        "remaining_time": 50.74776743,
                        "test": [
                          0.838228951,
                          0.4245402657
                        ]
                      },
                      {
                        "parameters": [
                          {
                            "learning_rate": 0.05,
                            "iterations": 100
                          }
                        ],
                        "learn": [
                          0.8812759959,
                          0.3725339394
                        ],
                        "iteration": 1,
                        "passed_time": 1.466205256,
                        "remaining_time": 49.85097869,
                        "test": [
                          0.8377365137,
                          0.422818406
                        ]
                      },
                      {
                        "parameters": [
                          {
                            "learning_rate": 0.04,
                            "iterations": 100
                          }
                        ],
                        "learn": [
                          0.8783257899,
                          0.3773758995
                        ],
                        "iteration": 2,
                        "passed_time": 2.242774111,
                        "remaining_time": 50.08862181,
                        "test": [
                          0.8350946055,
                          0.42612956
                        ]
                      },
                      {
                        "parameters": [
                          {
                            "learning_rate": 0.03,
                            "iterations": 100
                          }
                        ],
                        "learn": [
                          0.8745719932,
                          0.3835735267
                        ],
                        "iteration": 3,
                        "passed_time": 2.98679314,
                        "remaining_time": 49.2820868,
                        "test": [
                          0.831985421,
                          0.4291565028
                        ]
                      },
                      {
                        "parameters": [
                          {
                            "learning_rate": 0.02,
                            "iterations": 100
                          }
                        ],
                        "learn": [
                          0.8670811933,
                          0.3993000291
                        ],
                        "iteration": 4,
                        "passed_time": 3.690839044,
                        "remaining_time": 47.98090758,
                        "test": [
                          0.8299114332,
                          0.4341544504
                        ]
                      },
                      {
                        "parameters": [
                          {
                            "learning_rate": 0.01,
                            "iterations": 100
                          }
                        ],
                        "learn": [
                          0.8541946936,
                          0.4428842546
                        ],
                        "iteration": 5,
                        "passed_time": 4.404818118,
                        "remaining_time": 46.9847266,
                        "test": [
                          0.8191101622,
                          0.4648277103
                        ]
                      },
                      {
                        "parameters": [
                          {
                            "learning_rate": 0.001,
                            "iterations": 100
                          }
                        ],
                        "learn": [
                          0.8366373371,
                          0.6380574494
                        ],
                        "iteration": 6,
                        "passed_time": 5.152050195,
                        "remaining_time": 46.36845176,
                        "test": [
                          0.788730015,
                          0.642365605
                        ]
                      },
                      {
                        "parameters": [
                          {
                            "learning_rate": 0.1,
                            "iterations": 200
                          }
                        ],
                        "learn": [
                          0.9417007529,
                          0.286651074
                        ],
                        "iteration": 7,
                        "passed_time": 8.059899395,
                        "remaining_time": 62.46422031,
                        "test": [
                          0.8378946687,
                          0.4258538989
                        ]
                      },
                      {
                        "parameters": [
                          {
                            "learning_rate": 0.05,
                            "iterations": 200
                          }
                        ],
                        "learn": [
                          0.9037461262,
                          0.342903696
                        ],
                        "iteration": 8,
                        "passed_time": 10.66220565,
                        "remaining_time": 72.26606049,
                        "test": [
                          0.8353569991,
                          0.4262338832
                        ]
                      },
                      {
                        "parameters": [
                          {
                            "learning_rate": 0.04,
                            "iterations": 200
                          }
                        ],
                        "learn": [
                          0.8961066813,
                          0.353857239
                        ],
                        "iteration": 9,
                        "passed_time": 13.24244111,
                        "remaining_time": 79.45464667,
                        "test": [
                          0.8371614044,
                          0.4251766457
                        ]
                      },
                      {
                        "parameters": [
                          {
                            "learning_rate": 0.03,
                            "iterations": 200
                          }
                        ],
                        "learn": [
                          0.8882291774,
                          0.3642606369
                        ],
                        "iteration": 10,
                        "passed_time": 15.780422,
                        "remaining_time": 84.64044528,
                        "test": [
                          0.8371218657,
                          0.4243933748
                        ]
                      },
                      {
                        "parameters": [
                          {
                            "learning_rate": 0.02,
                            "iterations": 200
                          }
                        ],
                        "learn": [
                          0.8812006521,
                          0.3747340405
                        ],
                        "iteration": 11,
                        "passed_time": 18.3892562,
                        "remaining_time": 88.88140497,
                        "test": [
                          0.8388076547,
                          0.4225391842
                        ]
                      },
                      {
                        "parameters": [
                          {
                            "learning_rate": 0.01,
                            "iterations": 200
                          }
                        ],
                        "learn": [
                          0.869475172,
                          0.3971304697
                        ],
                        "iteration": 12,
                        "passed_time": 20.94751432,
                        "remaining_time": 91.84679357,
                        "test": [
                          0.8342175638,
                          0.4301181463
                        ]
                      },
                      {
                        "parameters": [
                          {
                            "learning_rate": 0.001,
                            "iterations": 200
                          }
                        ],
                        "learn": [
                          0.8497553145,
                          0.5842575974
                        ],
                        "iteration": 13,
                        "passed_time": 23.43849519,
                        "remaining_time": 93.75398076,
                        "test": [
                          0.8310005464,
                          0.5859317085
                        ]
                      },
                      {
                        "parameters": [
                          {
                            "learning_rate": 0.1,
                            "iterations": 300
                          }
                        ],
                        "learn": [
                          0.9636548241,
                          0.2480877853
                        ],
                        "iteration": 14,
                        "passed_time": 27.81511983,
                        "remaining_time": 101.9887727,
                        "test": [
                          0.8378946687,
                          0.4258538989
                        ]
                      },
                      {
                        "parameters": [
                          {
                            "learning_rate": 0.05,
                            "iterations": 300
                          }
                        ],
                        "learn": [
                          0.9241238796,
                          0.3141346675
                        ],
                        "iteration": 15,
                        "passed_time": 31.95328564,
                        "remaining_time": 107.842339,
                        "test": [
                          0.8353569991,
                          0.4262338832
                        ]
                      },
                      {
                        "parameters": [
                          {
                            "learning_rate": 0.04,
                            "iterations": 300
                          }
                        ],
                        "learn": [
                          0.9138612477,
                          0.3292655127
                        ],
                        "iteration": 16,
                        "passed_time": 35.99916246,
                        "remaining_time": 112.232683,
                        "test": [
                          0.8393899528,
                          0.4225637974
                        ]
                      },
                      {
                        "parameters": [
                          {
                            "learning_rate": 0.03,
                            "iterations": 300
                          }
                        ],
                        "learn": [
                          0.9026704357,
                          0.3449777086
                        ],
                        "iteration": 17,
                        "passed_time": 39.90281114,
                        "remaining_time": 115.2747877,
                        "test": [
                          0.8371290545,
                          0.4243933748
                        ]
                      },
                      {
                        "parameters": [
                          {
                            "learning_rate": 0.02,
                            "iterations": 300
                          }
                        ],
                        "learn": [
                          0.8889283763,
                          0.3634092882
                        ],
                        "iteration": 18,
                        "passed_time": 44.26843858,
                        "remaining_time": 118.8258088,
                        "test": [
                          0.8402310501,
                          0.4207965325
                        ]
                      },
                      {
                        "parameters": [
                          {
                            "learning_rate": 0.01,
                            "iterations": 300
                          }
                        ],
                        "learn": [
                          0.8760089704,
                          0.3830857128
                        ],
                        "iteration": 19,
                        "passed_time": 48.28379564,
                        "remaining_time": 120.7094891,
                        "test": [
                          0.8360651024,
                          0.4257548848
                        ]
                      },
                      {
                        "parameters": [
                          {
                            "learning_rate": 0.001,
                            "iterations": 300
                          }
                        ],
                        "learn": [
                          0.8528709589,
                          0.5462670409
                        ],
                        "iteration": 20,
                        "passed_time": 52.02937296,
                        "remaining_time": 121.4018702,
                        "test": [
                          0.8310005464,
                          0.5503263401
                        ]
                      },
                      {
                        "parameters": [
                          {
                            "learning_rate": 0.1,
                            "iterations": 400
                          }
                        ],
                        "learn": [
                          0.9789255441,
                          0.2146700175
                        ],
                        "iteration": 21,
                        "passed_time": 57.93346842,
                        "remaining_time": 126.4002947,
                        "test": [
                          0.8378946687,
                          0.4258538989
                        ]
                      },
                      {
                        "parameters": [
                          {
                            "learning_rate": 0.05,
                            "iterations": 400
                          }
                        ],
                        "learn": [
                          0.9391222729,
                          0.2915345886
                        ],
                        "iteration": 22,
                        "passed_time": 63.66892301,
                        "remaining_time": 130.1060601,
                        "test": [
                          0.8353569991,
                          0.4262338832
                        ]
                      },
                      {
                        "parameters": [
                          {
                            "learning_rate": 0.04,
                            "iterations": 400
                          }
                        ],
                        "learn": [
                          0.928926588,
                          0.3076964251
                        ],
                        "iteration": 23,
                        "passed_time": 69.2287878,
                        "remaining_time": 132.68851,
                        "test": [
                          0.8393899528,
                          0.4225637974
                        ]
                      },
                      {
                        "parameters": [
                          {
                            "learning_rate": 0.03,
                            "iterations": 400
                          }
                        ],
                        "learn": [
                          0.9165482046,
                          0.3257117406
                        ],
                        "iteration": 24,
                        "passed_time": 74.61704374,
                        "remaining_time": 134.3106787,
                        "test": [
                          0.8380096906,
                          0.4243933748
                        ]
                      },
                      {
                        "parameters": [
                          {
                            "learning_rate": 0.02,
                            "iterations": 400
                          }
                        ],
                        "learn": [
                          0.8964990587,
                          0.3531797626
                        ],
                        "iteration": 25,
                        "passed_time": 81.34942389,
                        "remaining_time": 137.6682558,
                        "test": [
                          0.8406336266,
                          0.4207580144
                        ]
                      },
                      {
                        "parameters": [
                          {
                            "learning_rate": 0.01,
                            "iterations": 400
                          }
                        ],
                        "learn": [
                          0.8809698552,
                          0.3749558255
                        ],
                        "iteration": 26,
                        "passed_time": 86.60716939,
                        "remaining_time": 137.9299364,
                        "test": [
                          0.8372117265,
                          0.4240361388
                        ]
                      },
                      {
                        "parameters": [
                          {
                            "learning_rate": 0.001,
                            "iterations": 400
                          }
                        ],
                        "learn": [
                          0.8546460751,
                          0.516531693
                        ],
                        "iteration": 27,
                        "passed_time": 91.55603835,
                        "remaining_time": 137.3340575,
                        "test": [
                          0.8310005464,
                          0.5232644029
                        ]
                      },
                      {
                        "parameters": [
                          {
                            "learning_rate": 0.1,
                            "iterations": 500
                          }
                        ],
                        "learn": [
                          0.9878238191,
                          0.1888262133
                        ],
                        "iteration": 28,
                        "passed_time": 99.67093218,
                        "remaining_time": 140.9140765,
                        "test": [
                          0.8378946687,
                          0.4258538989
                        ]
                      },
                      {
                        "parameters": [
                          {
                            "learning_rate": 0.05,
                            "iterations": 500
                          }
                        ],
                        "learn": [
                          0.9520677767,
                          0.2698844884
                        ],
                        "iteration": 29,
                        "passed_time": 107.1579445,
                        "remaining_time": 142.8772594,
                        "test": [
                          0.8353569991,
                          0.4262338832
                        ]
                      },
                      {
                        "parameters": [
                          {
                            "learning_rate": 0.04,
                            "iterations": 500
                          }
                        ],
                        "learn": [
                          0.9404845872,
                          0.2895946353
                        ],
                        "iteration": 30,
                        "passed_time": 114.3288034,
                        "remaining_time": 143.8330107,
                        "test": [
                          0.8393899528,
                          0.4225637974
                        ]
                      },
                      {
                        "parameters": [
                          {
                            "learning_rate": 0.03,
                            "iterations": 500
                          }
                        ],
                        "learn": [
                          0.9275134393,
                          0.3103326346
                        ],
                        "iteration": 31,
                        "passed_time": 121.2858718,
                        "remaining_time": 144.0269727,
                        "test": [
                          0.8378946687,
                          0.4243933748
                        ]
                      },
                      {
                        "parameters": [
                          {
                            "learning_rate": 0.02,
                            "iterations": 500
                          }
                        ],
                        "learn": [
                          0.9062340575,
                          0.3400576547
                        ],
                        "iteration": 32,
                        "passed_time": 128.072471,
                        "remaining_time": 143.5964069,
                        "test": [
                          0.8406336266,
                          0.4207580144
                        ]
                      },
                      {
                        "parameters": [
                          {
                            "learning_rate": 0.01,
                            "iterations": 500
                          }
                        ],
                        "learn": [
                          0.8849415133,
                          0.3691899259
                        ],
                        "iteration": 33,
                        "passed_time": 134.6974255,
                        "remaining_time": 142.6208035,
                        "test": [
                          0.8379234242,
                          0.4233291707
                        ]
                      },
                      {
                        "parameters": [
                          {
                            "learning_rate": 0.001,
                            "iterations": 500
                          }
                        ],
                        "learn": [
                          0.8557260775,
                          0.4938385453
                        ],
                        "iteration": 34,
                        "passed_time": 141.092363,
                        "remaining_time": 141.092363,
                        "test": [
                          0.8310005464,
                          0.503083578
                        ]
                      },
                      {
                        "parameters": [
                          {
                            "learning_rate": 0.1,
                            "iterations": 600
                          }
                        ],
                        "learn": [
                          0.9923240179,
                          0.1702489973
                        ],
                        "iteration": 35,
                        "passed_time": 150.0651926,
                        "remaining_time": 141.7282375,
                        "test": [
                          0.8378946687,
                          0.4258538989
                        ]
                      },
                      {
                        "parameters": [
                          {
                            "learning_rate": 0.05,
                            "iterations": 600
                          }
                        ],
                        "learn": [
                          0.9620553586,
                          0.2518914176
                        ],
                        "iteration": 36,
                        "passed_time": 158.8175232,
                        "remaining_time": 141.6480612,
                        "test": [
                          0.8353569991,
                          0.4262338832
                        ]
                      },
                      {
                        "parameters": [
                          {
                            "learning_rate": 0.04,
                            "iterations": 600
                          }
                        ],
                        "learn": [
                          0.9513726628,
                          0.2715576615
                        ],
                        "iteration": 37,
                        "passed_time": 167.4327053,
                        "remaining_time": 140.9959624,
                        "test": [
                          0.8393899528,
                          0.4225637974
                        ]
                      },
                      {
                        "parameters": [
                          {
                            "learning_rate": 0.03,
                            "iterations": 600
                          }
                        ],
                        "learn": [
                          0.9371764986,
                          0.295754431
                        ],
                        "iteration": 38,
                        "passed_time": 175.8910503,
                        "remaining_time": 139.8108349,
                        "test": [
                          0.8378946687,
                          0.4243933748
                        ]
                      },
                      {
                        "parameters": [
                          {
                            "learning_rate": 0.02,
                            "iterations": 600
                          }
                        ],
                        "learn": [
                          0.9157523298,
                          0.3272373616
                        ],
                        "iteration": 39,
                        "passed_time": 184.0482711,
                        "remaining_time": 138.0362033,
                        "test": [
                          0.8406336266,
                          0.4207580144
                        ]
                      },
                      {
                        "parameters": [
                          {
                            "learning_rate": 0.01,
                            "iterations": 600
                          }
                        ],
                        "learn": [
                          0.8880494418,
                          0.3646383815
                        ],
                        "iteration": 40,
                        "passed_time": 191.7567427,
                        "remaining_time": 135.632818,
                        "test": [
                          0.8383188118,
                          0.422960397
                        ]
                      },
                      {
                        "parameters": [
                          {
                            "learning_rate": 0.001,
                            "iterations": 600
                          }
                        ],
                        "learn": [
                          0.8567039573,
                          0.4756673261
                        ],
                        "iteration": 41,
                        "passed_time": 199.2191668,
                        "remaining_time": 132.8127778,
                        "test": [
                          0.8310005464,
                          0.4873762411
                        ]
                      },
                      {
                        "parameters": [
                          {
                            "learning_rate": 0.1,
                            "iterations": 700
                          }
                        ],
                        "learn": [
                          0.9957698585,
                          0.1510075712
                        ],
                        "iteration": 42,
                        "passed_time": 209.6068627,
                        "remaining_time": 131.6136115,
                        "test": [
                          0.8378946687,
                          0.4258538989
                        ]
                      },
                      {
                        "parameters": [
                          {
                            "learning_rate": 0.05,
                            "iterations": 700
                          }
                        ],
                        "learn": [
                          0.9705188187,
                          0.2350581899
                        ],
                        "iteration": 43,
                        "passed_time": 219.7528616,
                        "remaining_time": 129.8539637,
                        "test": [
                          0.8353569991,
                          0.4262338832
                        ]
                      },
                      {
                        "parameters": [
                          {
                            "learning_rate": 0.04,
                            "iterations": 700
                          }
                        ],
                        "learn": [
                          0.9596992787,
                          0.2560715211
                        ],
                        "iteration": 44,
                        "passed_time": 229.8352396,
                        "remaining_time": 127.6862442,
                        "test": [
                          0.8393899528,
                          0.4225637974
                        ]
                      },
                      {
                        "parameters": [
                          {
                            "learning_rate": 0.03,
                            "iterations": 700
                          }
                        ],
                        "learn": [
                          0.9450530946,
                          0.2829771041
                        ],
                        "iteration": 45,
                        "passed_time": 239.6909507,
                        "remaining_time": 125.0561482,
                        "test": [
                          0.8378946687,
                          0.4243933748
                        ]
                      },
                      {
                        "parameters": [
                          {
                            "learning_rate": 0.02,
                            "iterations": 700
                          }
                        ],
                        "learn": [
                          0.9231882104,
                          0.316729938
                        ],
                        "iteration": 46,
                        "passed_time": 249.3042153,
                        "remaining_time": 121.9999352,
                        "test": [
                          0.8406336266,
                          0.4207580144
                        ]
                      },
                      {
                        "parameters": [
                          {
                            "learning_rate": 0.01,
                            "iterations": 700
                          }
                        ],
                        "learn": [
                          0.8917657936,
                          0.3594114034
                        ],
                        "iteration": 47,
                        "passed_time": 258.2334175,
                        "remaining_time": 118.356983,
                        "test": [
                          0.8383475673,
                          0.4229112194
                        ]
                      },
                      {
                        "parameters": [
                          {
                            "learning_rate": 0.001,
                            "iterations": 700
                          }
                        ],
                        "learn": [
                          0.8572617731,
                          0.4617011638
                        ],
                        "iteration": 48,
                        "passed_time": 266.985544,
                        "remaining_time": 114.422376,
                        "test": [
                          0.8310005464,
                          0.4756625241
                        ]
                      },
                      {
                        "parameters": [
                          {
                            "learning_rate": 0.1,
                            "iterations": 800
                          }
                        ],
                        "learn": [
                          0.9975753846,
                          0.1362699461
                        ],
                        "iteration": 49,
                        "passed_time": 278.9462318,
                        "remaining_time": 111.5784927,
                        "test": [
                          0.8378946687,
                          0.4258538989
                        ]
                      },
                      {
                        "parameters": [
                          {
                            "learning_rate": 0.05,
                            "iterations": 800
                          }
                        ],
                        "learn": [
                          0.9769107803,
                          0.2204375494
                        ],
                        "iteration": 50,
                        "passed_time": 290.6337645,
                        "remaining_time": 108.275324,
                        "test": [
                          0.8353569991,
                          0.4262338832
                        ]
                      },
                      {
                        "parameters": [
                          {
                            "learning_rate": 0.04,
                            "iterations": 800
                          }
                        ],
                        "learn": [
                          0.9674174714,
                          0.2418327415
                        ],
                        "iteration": 51,
                        "passed_time": 302.397468,
                        "remaining_time": 104.6760466,
                        "test": [
                          0.8393899528,
                          0.4225637974
                        ]
                      },
                      {
                        "parameters": [
                          {
                            "learning_rate": 0.03,
                            "iterations": 800
                          }
                        ],
                        "learn": [
                          0.9516252458,
                          0.2718907932
                        ],
                        "iteration": 52,
                        "passed_time": 313.7993995,
                        "remaining_time": 100.6526376,
                        "test": [
                          0.8378946687,
                          0.4243933748
                        ]
                      },
                      {
                        "parameters": [
                          {
                            "learning_rate": 0.02,
                            "iterations": 800
                          }
                        ],
                        "learn": [
                          0.9298702,
                          0.3069241101
                        ],
                        "iteration": 53,
                        "passed_time": 324.9461173,
                        "remaining_time": 96.28033106,
                        "test": [
                          0.8406336266,
                          0.4207580144
                        ]
                      },
                      {
                        "parameters": [
                          {
                            "learning_rate": 0.01,
                            "iterations": 800
                          }
                        ],
                        "learn": [
                          0.8966363567,
                          0.353062264
                        ],
                        "iteration": 54,
                        "passed_time": 335.2404157,
                        "remaining_time": 91.42920429,
                        "test": [
                          0.8383475673,
                          0.4229112194
                        ]
                      },
                      {
                        "parameters": [
                          {
                            "learning_rate": 0.001,
                            "iterations": 800
                          }
                        ],
                        "learn": [
                          0.8588104043,
                          0.4504621031
                        ],
                        "iteration": 55,
                        "passed_time": 345.2512565,
                        "remaining_time": 86.31281413,
                        "test": [
                          0.8310005464,
                          0.4660238917
                        ]
                      },
                      {
                        "parameters": [
                          {
                            "learning_rate": 0.1,
                            "iterations": 900
                          }
                        ],
                        "learn": [
                          0.9986778538,
                          0.1222364378
                        ],
                        "iteration": 56,
                        "passed_time": 358.6233956,
                        "remaining_time": 81.79130075,
                        "test": [
                          0.8378946687,
                          0.4258538989
                        ]
                      },
                      {
                        "parameters": [
                          {
                            "learning_rate": 0.05,
                            "iterations": 900
                          }
                        ],
                        "learn": [
                          0.981927946,
                          0.2068489372
                        ],
                        "iteration": 57,
                        "passed_time": 371.644638,
                        "remaining_time": 76.89199406,
                        "test": [
                          0.8353569991,
                          0.4262338832
                        ]
                      },
                      {
                        "parameters": [
                          {
                            "learning_rate": 0.04,
                            "iterations": 900
                          }
                        ],
                        "learn": [
                          0.9726307123,
                          0.2306303591
                        ],
                        "iteration": 58,
                        "passed_time": 384.8778174,
                        "remaining_time": 71.75688121,
                        "test": [
                          0.8393899528,
                          0.4225637974
                        ]
                      },
                      {
                        "parameters": [
                          {
                            "learning_rate": 0.03,
                            "iterations": 900
                          }
                        ],
                        "learn": [
                          0.9579545723,
                          0.2605795545
                        ],
                        "iteration": 59,
                        "passed_time": 397.8075307,
                        "remaining_time": 66.30125511,
                        "test": [
                          0.8378946687,
                          0.4243933748
                        ]
                      },
                      {
                        "parameters": [
                          {
                            "learning_rate": 0.02,
                            "iterations": 900
                          }
                        ],
                        "learn": [
                          0.9363243429,
                          0.2970039026
                        ],
                        "iteration": 60,
                        "passed_time": 410.4780295,
                        "remaining_time": 60.56233221,
                        "test": [
                          0.8407019209,
                          0.4207467637
                        ]
                      },
                      {
                        "parameters": [
                          {
                            "learning_rate": 0.01,
                            "iterations": 900
                          }
                        ],
                        "learn": [
                          0.9015550309,
                          0.3465400717
                        ],
                        "iteration": 61,
                        "passed_time": 422.4267841,
                        "remaining_time": 54.50668181,
                        "test": [
                          0.8383475673,
                          0.4229112194
                        ]
                      },
                      {
                        "parameters": [
                          {
                            "learning_rate": 0.001,
                            "iterations": 900
                          }
                        ],
                        "learn": [
                          0.8598824638,
                          0.4414384698
                        ],
                        "iteration": 62,
                        "passed_time": 433.8291717,
                        "remaining_time": 48.2032413,
                        "test": [
                          0.8310005464,
                          0.4586445352
                        ]
                      },
                      {
                        "parameters": [
                          {
                            "learning_rate": 0.1,
                            "iterations": 1000
                          }
                        ],
                        "learn": [
                          0.9993849955,
                          0.1097632553
                        ],
                        "iteration": 63,
                        "passed_time": 449.3729276,
                        "remaining_time": 42.12871197,
                        "test": [
                          0.8378946687,
                          0.4258538989
                        ]
                      },
                      {
                        "parameters": [
                          {
                            "learning_rate": 0.05,
                            "iterations": 1000
                          }
                        ],
                        "learn": [
                          0.9861866818,
                          0.1943160208
                        ],
                        "iteration": 64,
                        "passed_time": 464.1648972,
                        "remaining_time": 35.70499209,
                        "test": [
                          0.8353569991,
                          0.4262338832
                        ]
                      },
                      {
                        "parameters": [
                          {
                            "learning_rate": 0.04,
                            "iterations": 1000
                          }
                        ],
                        "learn": [
                          0.9771095788,
                          0.2200101252
                        ],
                        "iteration": 65,
                        "passed_time": 478.7377737,
                        "remaining_time": 29.01441053,
                        "test": [
                          0.8393899528,
                          0.4225637974
                        ]
                      },
                      {
                        "parameters": [
                          {
                            "learning_rate": 0.03,
                            "iterations": 1000
                          }
                        ],
                        "learn": [
                          0.9636275914,
                          0.2500312202
                        ],
                        "iteration": 66,
                        "passed_time": 493.0878407,
                        "remaining_time": 22.07856003,
                        "test": [
                          0.8378946687,
                          0.4243933748
                        ]
                      },
                      {
                        "parameters": [
                          {
                            "learning_rate": 0.02,
                            "iterations": 1000
                          }
                        ],
                        "learn": [
                          0.941919522,
                          0.2881565206
                        ],
                        "iteration": 67,
                        "passed_time": 507.1136875,
                        "remaining_time": 14.91510846,
                        "test": [
                          0.8407019209,
                          0.4207467637
                        ]
                      },
                      {
                        "parameters": [
                          {
                            "learning_rate": 0.01,
                            "iterations": 1000
                          }
                        ],
                        "learn": [
                          0.9067995893,
                          0.339397538
                        ],
                        "iteration": 68,
                        "passed_time": 520.3435855,
                        "remaining_time": 7.541211385,
                        "test": [
                          0.8384230504,
                          0.4229112194
                        ]
                      }
                    ],
                    "meta": {
                      "test_sets": [
                        "test"
                      ],
                      "test_metrics": [
                        {
                          "best_value": "Max",
                          "name": "AUC"
                        },
                        {
                          "best_value": "Min",
                          "name": "Logloss"
                        }
                      ],
                      "learn_metrics": [
                        {
                          "best_value": "Max",
                          "name": "AUC"
                        },
                        {
                          "best_value": "Min",
                          "name": "Logloss"
                        }
                      ],
                      "launch_mode": "Train",
                      "parameters": "parameters",
                      "iteration_count": 70,
                      "learn_sets": [
                        "learn"
                      ],
                      "name": "experiment"
                    }
                  }
                }
              }
            },
            "layout": "IPY_MODEL_66fe74e3155748e3b3ac6df1d68566c9"
          }
        }
      }
    }
  },
  "nbformat_minor": 0,
  "nbformat": 4,
  "cells": [
    {
      "cell_type": "code",
      "source": [
        "from google.colab import drive\n",
        "\n",
        "drive.mount('/content/drive')"
      ],
      "metadata": {
        "colab": {
          "base_uri": "https://localhost:8080/"
        },
        "id": "QTBaEn19ALog",
        "outputId": "baba4a8d-da9c-42a2-89c1-cb88e33a137c"
      },
      "execution_count": 3,
      "outputs": [
        {
          "output_type": "stream",
          "name": "stdout",
          "text": [
            "Drive already mounted at /content/drive; to attempt to forcibly remount, call drive.mount(\"/content/drive\", force_remount=True).\n"
          ]
        }
      ]
    },
    {
      "cell_type": "code",
      "source": [],
      "metadata": {
        "id": "IxCyZplcAMqn"
      },
      "execution_count": 3,
      "outputs": []
    },
    {
      "cell_type": "markdown",
      "source": [
        "<p style=\"align: center;\"><img align=center src=\"https://s8.hostingkartinok.com/uploads/images/2018/08/308b49fcfbc619d629fe4604bceb67ac.jpg\" width=500 height=450/></p>\n",
        "\n",
        "<h3 style=\"text-align: center;\"><b>Школа глубокого обучения ФПМИ МФТИ</b></h3>\n",
        "\n",
        "<h3 style=\"text-align: center;\"><b>Домашнее задание. Продвинутый поток. Весна 2021</b></h3>\n",
        "\n",
        "Это домашнее задание будет посвящено полноценному решению задачи машинного обучения."
      ],
      "metadata": {
        "id": "TK7oX5qdEEYr"
      }
    },
    {
      "cell_type": "markdown",
      "source": [
        "Есть две части этого домашнего задания: \n",
        "* Сделать полноценный отчет о вашей работе: как вы обработали данные, какие модели попробовали и какие результаты получились (максимум 10 баллов). За каждую выполненную часть будет начислено определенное количество баллов.\n",
        "* Лучшее решение отправить в соревнование на [kaggle](https://www.kaggle.com/c/advanced-dls-spring-2021/) (максимум 5 баллов). За прохождение определенного порогов будут начисляться баллы.\n",
        "\n",
        "\n",
        "**Обе части будут проверяться в формате peer-review. Т.е. вашу посылку на степик будут проверять несколько других студентов и аггрегация их оценок будет выставлена. В то же время вам тоже нужно будет проверить несколько других учеников.**\n",
        "\n",
        "**Пожалуйста, делайте свою работу чистой и понятной, чтобы облегчить проверку. Если у вас будут проблемы с решением или хочется совета, то пишите в наш чат в телеграме или в лс @runfme. Если вы захотите проаппелировать оценку, то пипшите в лс @runfme.**\n",
        "\n",
        "**Во всех пунктах указания это минимальный набор вещей, которые стоит сделать. Если вы можете сделать какой-то шаг лучше или добавить что-то свое - дерзайте!**"
      ],
      "metadata": {
        "id": "zlB-owfaEEYs"
      }
    },
    {
      "cell_type": "markdown",
      "source": [
        "# Как проверять?\n",
        "\n",
        "Ставьте полный балл, если выполнены все рекомендации или сделано что-то более интересное и сложное. За каждый отсустствующий пункт из рекомендация снижайте 1 балл."
      ],
      "metadata": {
        "id": "Tu_JvqcBEN8Y"
      }
    },
    {
      "cell_type": "markdown",
      "source": [
        "# Метрика\n",
        "\n",
        "Перед решением любой задачи важно понимать, как будет оцениваться ваше решение. В данном случае мы используем стандартную для задачи классификации метрику ROC-AUC. Ее можно вычислить используя только предсказанные вероятности и истинные классы без конкретного порога классификации + она раотает даже если классы в данных сильно несбалансированны (примеров одного класса в десятки раз больше примеров длугого). Именно поэтому она очень удобна для соревнований.\n",
        "\n",
        "Посчитать ее легко:\n"
      ],
      "metadata": {
        "id": "ninJ63mJEEYt"
      }
    },
    {
      "cell_type": "code",
      "source": [
        "from sklearn.metrics import roc_auc_score\n",
        "\n",
        "y_true = [\n",
        "    0,\n",
        "    1,\n",
        "    1,\n",
        "    0,\n",
        "    1\n",
        "]\n",
        "\n",
        "y_predictions = [\n",
        "    0.1,\n",
        "    0.9,\n",
        "    0.4,\n",
        "    0.6,\n",
        "    0.61\n",
        "]\n",
        "\n",
        "roc_auc_score(y_true, y_predictions)"
      ],
      "metadata": {
        "id": "SQIrka7yEEYu",
        "outputId": "7967af2b-d229-46c8-fa05-e2afd4643a80",
        "colab": {
          "base_uri": "https://localhost:8080/"
        },
        "execution": {
          "iopub.status.busy": "2022-10-23T17:38:49.584084Z",
          "iopub.execute_input": "2022-10-23T17:38:49.584554Z",
          "iopub.status.idle": "2022-10-23T17:38:50.231673Z",
          "shell.execute_reply.started": "2022-10-23T17:38:49.584457Z",
          "shell.execute_reply": "2022-10-23T17:38:50.230364Z"
        },
        "trusted": true
      },
      "execution_count": 4,
      "outputs": [
        {
          "output_type": "execute_result",
          "data": {
            "text/plain": [
              "0.8333333333333333"
            ]
          },
          "metadata": {},
          "execution_count": 4
        }
      ]
    },
    {
      "cell_type": "markdown",
      "source": [
        "# Первая часть. Исследование"
      ],
      "metadata": {
        "id": "IrDNNkNTEEYz"
      }
    },
    {
      "cell_type": "code",
      "source": [
        "import pandas as pd\n",
        "import numpy as np\n",
        "from matplotlib import pyplot as plt"
      ],
      "metadata": {
        "id": "lzLqEeZKEEYz",
        "execution": {
          "iopub.status.busy": "2022-10-23T17:38:50.233814Z",
          "iopub.execute_input": "2022-10-23T17:38:50.235004Z",
          "iopub.status.idle": "2022-10-23T17:38:50.240526Z",
          "shell.execute_reply.started": "2022-10-23T17:38:50.234953Z",
          "shell.execute_reply": "2022-10-23T17:38:50.239229Z"
        },
        "trusted": true
      },
      "execution_count": 5,
      "outputs": []
    },
    {
      "cell_type": "markdown",
      "source": [
        "## Загрузка данных (2 балла)\n",
        "\n",
        "1) Посмотрите на случайные строчки. \n",
        "\n",
        "2) Посмотрите, есть ли в датасете незаполненные значения (nan'ы) с помощью data.isna() или data.info() и, если нужно, замените их на что-то. Будет хорошо, если вы построите табличку с количеством nan в каждой колонке."
      ],
      "metadata": {
        "id": "LOlxdURSEEY3"
      }
    },
    {
      "cell_type": "code",
      "source": [
        "root = '/content/drive/MyDrive/DLS 8.1/'\n",
        "df = pd.read_csv(root+'train.csv')"
      ],
      "metadata": {
        "id": "pw-Brue9EEY3",
        "execution": {
          "iopub.status.busy": "2022-10-23T17:38:50.263827Z",
          "iopub.execute_input": "2022-10-23T17:38:50.264814Z",
          "iopub.status.idle": "2022-10-23T17:38:50.320521Z",
          "shell.execute_reply.started": "2022-10-23T17:38:50.264772Z",
          "shell.execute_reply": "2022-10-23T17:38:50.318331Z"
        },
        "trusted": true
      },
      "execution_count": 6,
      "outputs": []
    },
    {
      "cell_type": "code",
      "source": [
        "# Для вашего удобства списки с именами разных колонок\n",
        "\n",
        "# Числовые признаки\n",
        "num_cols = [\n",
        "    'ClientPeriod',\n",
        "    'MonthlySpending',\n",
        "    'TotalSpent'\n",
        "]\n",
        "\n",
        "# Категориальные признаки\n",
        "cat_cols = [\n",
        "    'Sex',\n",
        "    'IsSeniorCitizen',\n",
        "    'HasPartner',\n",
        "    'HasChild',\n",
        "    'HasPhoneService',\n",
        "    'HasMultiplePhoneNumbers',\n",
        "    'HasInternetService',\n",
        "    'HasOnlineSecurityService',\n",
        "    'HasOnlineBackup',\n",
        "    'HasDeviceProtection',\n",
        "    'HasTechSupportAccess',\n",
        "    'HasOnlineTV',\n",
        "    'HasMovieSubscription',\n",
        "    'HasContractPhone',\n",
        "    'IsBillingPaperless',\n",
        "    'PaymentMethod'\n",
        "]\n",
        "\n",
        "feature_cols = num_cols + cat_cols\n",
        "target_col = 'Churn'"
      ],
      "metadata": {
        "id": "KgnkkF5bEEY9",
        "execution": {
          "iopub.status.busy": "2022-10-23T17:38:50.322344Z",
          "iopub.execute_input": "2022-10-23T17:38:50.322701Z",
          "iopub.status.idle": "2022-10-23T17:38:50.333006Z",
          "shell.execute_reply.started": "2022-10-23T17:38:50.322669Z",
          "shell.execute_reply": "2022-10-23T17:38:50.331700Z"
        },
        "trusted": true
      },
      "execution_count": 7,
      "outputs": []
    },
    {
      "cell_type": "code",
      "source": [
        "#посмотрим несколько случайных строчек\n",
        "df.sample(n=3)"
      ],
      "metadata": {
        "id": "tHC6gWabEEZA",
        "colab": {
          "base_uri": "https://localhost:8080/",
          "height": 264
        },
        "outputId": "c0c73990-bf34-46d2-9322-f8ce55dfadce",
        "execution": {
          "iopub.status.busy": "2022-10-23T17:38:50.335119Z",
          "iopub.execute_input": "2022-10-23T17:38:50.336041Z",
          "iopub.status.idle": "2022-10-23T17:38:50.382575Z",
          "shell.execute_reply.started": "2022-10-23T17:38:50.335988Z",
          "shell.execute_reply": "2022-10-23T17:38:50.381465Z"
        },
        "trusted": true
      },
      "execution_count": 8,
      "outputs": [
        {
          "output_type": "execute_result",
          "data": {
            "text/plain": [
              "      ClientPeriod  MonthlySpending TotalSpent     Sex  IsSeniorCitizen  \\\n",
              "518              1            80.00         80    Male                0   \n",
              "3744             6            45.65     323.45  Female                0   \n",
              "3508            72           110.90    8240.85    Male                0   \n",
              "\n",
              "     HasPartner HasChild HasPhoneService HasMultiplePhoneNumbers  \\\n",
              "518         Yes      Yes             Yes                      No   \n",
              "3744        Yes       No             Yes                      No   \n",
              "3508        Yes       No             Yes                     Yes   \n",
              "\n",
              "     HasInternetService HasOnlineSecurityService HasOnlineBackup  \\\n",
              "518         Fiber optic                       No              No   \n",
              "3744                DSL                       No              No   \n",
              "3508        Fiber optic                      Yes              No   \n",
              "\n",
              "     HasDeviceProtection HasTechSupportAccess HasOnlineTV  \\\n",
              "518                   No                   No          No   \n",
              "3744                  No                   No          No   \n",
              "3508                 Yes                  Yes         Yes   \n",
              "\n",
              "     HasMovieSubscription HasContractPhone IsBillingPaperless  \\\n",
              "518                   Yes   Month-to-month                 No   \n",
              "3744                   No   Month-to-month                 No   \n",
              "3508                  Yes         Two year                Yes   \n",
              "\n",
              "                PaymentMethod  Churn  \n",
              "518          Electronic check      1  \n",
              "3744             Mailed check      0  \n",
              "3508  Credit card (automatic)      0  "
            ],
            "text/html": [
              "\n",
              "  <div id=\"df-08b92029-5ba7-4358-b4fe-bbcb9a8c41b8\">\n",
              "    <div class=\"colab-df-container\">\n",
              "      <div>\n",
              "<style scoped>\n",
              "    .dataframe tbody tr th:only-of-type {\n",
              "        vertical-align: middle;\n",
              "    }\n",
              "\n",
              "    .dataframe tbody tr th {\n",
              "        vertical-align: top;\n",
              "    }\n",
              "\n",
              "    .dataframe thead th {\n",
              "        text-align: right;\n",
              "    }\n",
              "</style>\n",
              "<table border=\"1\" class=\"dataframe\">\n",
              "  <thead>\n",
              "    <tr style=\"text-align: right;\">\n",
              "      <th></th>\n",
              "      <th>ClientPeriod</th>\n",
              "      <th>MonthlySpending</th>\n",
              "      <th>TotalSpent</th>\n",
              "      <th>Sex</th>\n",
              "      <th>IsSeniorCitizen</th>\n",
              "      <th>HasPartner</th>\n",
              "      <th>HasChild</th>\n",
              "      <th>HasPhoneService</th>\n",
              "      <th>HasMultiplePhoneNumbers</th>\n",
              "      <th>HasInternetService</th>\n",
              "      <th>HasOnlineSecurityService</th>\n",
              "      <th>HasOnlineBackup</th>\n",
              "      <th>HasDeviceProtection</th>\n",
              "      <th>HasTechSupportAccess</th>\n",
              "      <th>HasOnlineTV</th>\n",
              "      <th>HasMovieSubscription</th>\n",
              "      <th>HasContractPhone</th>\n",
              "      <th>IsBillingPaperless</th>\n",
              "      <th>PaymentMethod</th>\n",
              "      <th>Churn</th>\n",
              "    </tr>\n",
              "  </thead>\n",
              "  <tbody>\n",
              "    <tr>\n",
              "      <th>518</th>\n",
              "      <td>1</td>\n",
              "      <td>80.00</td>\n",
              "      <td>80</td>\n",
              "      <td>Male</td>\n",
              "      <td>0</td>\n",
              "      <td>Yes</td>\n",
              "      <td>Yes</td>\n",
              "      <td>Yes</td>\n",
              "      <td>No</td>\n",
              "      <td>Fiber optic</td>\n",
              "      <td>No</td>\n",
              "      <td>No</td>\n",
              "      <td>No</td>\n",
              "      <td>No</td>\n",
              "      <td>No</td>\n",
              "      <td>Yes</td>\n",
              "      <td>Month-to-month</td>\n",
              "      <td>No</td>\n",
              "      <td>Electronic check</td>\n",
              "      <td>1</td>\n",
              "    </tr>\n",
              "    <tr>\n",
              "      <th>3744</th>\n",
              "      <td>6</td>\n",
              "      <td>45.65</td>\n",
              "      <td>323.45</td>\n",
              "      <td>Female</td>\n",
              "      <td>0</td>\n",
              "      <td>Yes</td>\n",
              "      <td>No</td>\n",
              "      <td>Yes</td>\n",
              "      <td>No</td>\n",
              "      <td>DSL</td>\n",
              "      <td>No</td>\n",
              "      <td>No</td>\n",
              "      <td>No</td>\n",
              "      <td>No</td>\n",
              "      <td>No</td>\n",
              "      <td>No</td>\n",
              "      <td>Month-to-month</td>\n",
              "      <td>No</td>\n",
              "      <td>Mailed check</td>\n",
              "      <td>0</td>\n",
              "    </tr>\n",
              "    <tr>\n",
              "      <th>3508</th>\n",
              "      <td>72</td>\n",
              "      <td>110.90</td>\n",
              "      <td>8240.85</td>\n",
              "      <td>Male</td>\n",
              "      <td>0</td>\n",
              "      <td>Yes</td>\n",
              "      <td>No</td>\n",
              "      <td>Yes</td>\n",
              "      <td>Yes</td>\n",
              "      <td>Fiber optic</td>\n",
              "      <td>Yes</td>\n",
              "      <td>No</td>\n",
              "      <td>Yes</td>\n",
              "      <td>Yes</td>\n",
              "      <td>Yes</td>\n",
              "      <td>Yes</td>\n",
              "      <td>Two year</td>\n",
              "      <td>Yes</td>\n",
              "      <td>Credit card (automatic)</td>\n",
              "      <td>0</td>\n",
              "    </tr>\n",
              "  </tbody>\n",
              "</table>\n",
              "</div>\n",
              "      <button class=\"colab-df-convert\" onclick=\"convertToInteractive('df-08b92029-5ba7-4358-b4fe-bbcb9a8c41b8')\"\n",
              "              title=\"Convert this dataframe to an interactive table.\"\n",
              "              style=\"display:none;\">\n",
              "        \n",
              "  <svg xmlns=\"http://www.w3.org/2000/svg\" height=\"24px\"viewBox=\"0 0 24 24\"\n",
              "       width=\"24px\">\n",
              "    <path d=\"M0 0h24v24H0V0z\" fill=\"none\"/>\n",
              "    <path d=\"M18.56 5.44l.94 2.06.94-2.06 2.06-.94-2.06-.94-.94-2.06-.94 2.06-2.06.94zm-11 1L8.5 8.5l.94-2.06 2.06-.94-2.06-.94L8.5 2.5l-.94 2.06-2.06.94zm10 10l.94 2.06.94-2.06 2.06-.94-2.06-.94-.94-2.06-.94 2.06-2.06.94z\"/><path d=\"M17.41 7.96l-1.37-1.37c-.4-.4-.92-.59-1.43-.59-.52 0-1.04.2-1.43.59L10.3 9.45l-7.72 7.72c-.78.78-.78 2.05 0 2.83L4 21.41c.39.39.9.59 1.41.59.51 0 1.02-.2 1.41-.59l7.78-7.78 2.81-2.81c.8-.78.8-2.07 0-2.86zM5.41 20L4 18.59l7.72-7.72 1.47 1.35L5.41 20z\"/>\n",
              "  </svg>\n",
              "      </button>\n",
              "      \n",
              "  <style>\n",
              "    .colab-df-container {\n",
              "      display:flex;\n",
              "      flex-wrap:wrap;\n",
              "      gap: 12px;\n",
              "    }\n",
              "\n",
              "    .colab-df-convert {\n",
              "      background-color: #E8F0FE;\n",
              "      border: none;\n",
              "      border-radius: 50%;\n",
              "      cursor: pointer;\n",
              "      display: none;\n",
              "      fill: #1967D2;\n",
              "      height: 32px;\n",
              "      padding: 0 0 0 0;\n",
              "      width: 32px;\n",
              "    }\n",
              "\n",
              "    .colab-df-convert:hover {\n",
              "      background-color: #E2EBFA;\n",
              "      box-shadow: 0px 1px 2px rgba(60, 64, 67, 0.3), 0px 1px 3px 1px rgba(60, 64, 67, 0.15);\n",
              "      fill: #174EA6;\n",
              "    }\n",
              "\n",
              "    [theme=dark] .colab-df-convert {\n",
              "      background-color: #3B4455;\n",
              "      fill: #D2E3FC;\n",
              "    }\n",
              "\n",
              "    [theme=dark] .colab-df-convert:hover {\n",
              "      background-color: #434B5C;\n",
              "      box-shadow: 0px 1px 3px 1px rgba(0, 0, 0, 0.15);\n",
              "      filter: drop-shadow(0px 1px 2px rgba(0, 0, 0, 0.3));\n",
              "      fill: #FFFFFF;\n",
              "    }\n",
              "  </style>\n",
              "\n",
              "      <script>\n",
              "        const buttonEl =\n",
              "          document.querySelector('#df-08b92029-5ba7-4358-b4fe-bbcb9a8c41b8 button.colab-df-convert');\n",
              "        buttonEl.style.display =\n",
              "          google.colab.kernel.accessAllowed ? 'block' : 'none';\n",
              "\n",
              "        async function convertToInteractive(key) {\n",
              "          const element = document.querySelector('#df-08b92029-5ba7-4358-b4fe-bbcb9a8c41b8');\n",
              "          const dataTable =\n",
              "            await google.colab.kernel.invokeFunction('convertToInteractive',\n",
              "                                                     [key], {});\n",
              "          if (!dataTable) return;\n",
              "\n",
              "          const docLinkHtml = 'Like what you see? Visit the ' +\n",
              "            '<a target=\"_blank\" href=https://colab.research.google.com/notebooks/data_table.ipynb>data table notebook</a>'\n",
              "            + ' to learn more about interactive tables.';\n",
              "          element.innerHTML = '';\n",
              "          dataTable['output_type'] = 'display_data';\n",
              "          await google.colab.output.renderOutput(dataTable, element);\n",
              "          const docLink = document.createElement('div');\n",
              "          docLink.innerHTML = docLinkHtml;\n",
              "          element.appendChild(docLink);\n",
              "        }\n",
              "      </script>\n",
              "    </div>\n",
              "  </div>\n",
              "  "
            ]
          },
          "metadata": {},
          "execution_count": 8
        }
      ]
    },
    {
      "cell_type": "code",
      "source": [
        "#есть ли в данных пропуски? сколько их?\n",
        "df.isna().count()\n",
        "df.info()\n",
        "#на первый взгляд, пропусков нет! Но почему в TotalSpent тип -- object, если он \n",
        "#числовой?"
      ],
      "metadata": {
        "colab": {
          "base_uri": "https://localhost:8080/"
        },
        "id": "RMrOizCzM5OE",
        "outputId": "80014ccc-8c04-4c63-b269-928a82162297",
        "execution": {
          "iopub.status.busy": "2022-10-23T17:38:50.384543Z",
          "iopub.execute_input": "2022-10-23T17:38:50.385343Z",
          "iopub.status.idle": "2022-10-23T17:38:50.432533Z",
          "shell.execute_reply.started": "2022-10-23T17:38:50.385294Z",
          "shell.execute_reply": "2022-10-23T17:38:50.431365Z"
        },
        "trusted": true
      },
      "execution_count": 9,
      "outputs": [
        {
          "output_type": "stream",
          "name": "stdout",
          "text": [
            "<class 'pandas.core.frame.DataFrame'>\n",
            "RangeIndex: 5282 entries, 0 to 5281\n",
            "Data columns (total 20 columns):\n",
            " #   Column                    Non-Null Count  Dtype  \n",
            "---  ------                    --------------  -----  \n",
            " 0   ClientPeriod              5282 non-null   int64  \n",
            " 1   MonthlySpending           5282 non-null   float64\n",
            " 2   TotalSpent                5282 non-null   object \n",
            " 3   Sex                       5282 non-null   object \n",
            " 4   IsSeniorCitizen           5282 non-null   int64  \n",
            " 5   HasPartner                5282 non-null   object \n",
            " 6   HasChild                  5282 non-null   object \n",
            " 7   HasPhoneService           5282 non-null   object \n",
            " 8   HasMultiplePhoneNumbers   5282 non-null   object \n",
            " 9   HasInternetService        5282 non-null   object \n",
            " 10  HasOnlineSecurityService  5282 non-null   object \n",
            " 11  HasOnlineBackup           5282 non-null   object \n",
            " 12  HasDeviceProtection       5282 non-null   object \n",
            " 13  HasTechSupportAccess      5282 non-null   object \n",
            " 14  HasOnlineTV               5282 non-null   object \n",
            " 15  HasMovieSubscription      5282 non-null   object \n",
            " 16  HasContractPhone          5282 non-null   object \n",
            " 17  IsBillingPaperless        5282 non-null   object \n",
            " 18  PaymentMethod             5282 non-null   object \n",
            " 19  Churn                     5282 non-null   int64  \n",
            "dtypes: float64(1), int64(3), object(16)\n",
            "memory usage: 825.4+ KB\n"
          ]
        }
      ]
    },
    {
      "cell_type": "code",
      "source": [
        "def isnumber(row):\n",
        "\n",
        "  count = 0\n",
        "  for item in row:\n",
        "    item = str(item)\n",
        "    item = item.replace('.', '') #удаляем точку из десятичных дробей, если нужно\n",
        "    if not item.isdigit():\n",
        "      print('gotcha! '+item)\n",
        "      count += 1\n",
        "    \n",
        "  return count\n",
        "    "
      ],
      "metadata": {
        "id": "7A5yFOzIWi0M",
        "execution": {
          "iopub.status.busy": "2022-10-23T17:38:50.433750Z",
          "iopub.execute_input": "2022-10-23T17:38:50.436022Z",
          "iopub.status.idle": "2022-10-23T17:38:50.442396Z",
          "shell.execute_reply.started": "2022-10-23T17:38:50.435980Z",
          "shell.execute_reply": "2022-10-23T17:38:50.441103Z"
        },
        "trusted": true
      },
      "execution_count": 10,
      "outputs": []
    },
    {
      "cell_type": "code",
      "source": [
        "isnumber(df['TotalSpent'])\n",
        "#в данные затесались пробельные символы"
      ],
      "metadata": {
        "colab": {
          "base_uri": "https://localhost:8080/"
        },
        "id": "vWJsxXxaXKYi",
        "outputId": "d27b47a4-fe62-40ac-95a3-f8ee9ac34a43",
        "execution": {
          "iopub.status.busy": "2022-10-23T17:38:50.443699Z",
          "iopub.execute_input": "2022-10-23T17:38:50.444067Z",
          "iopub.status.idle": "2022-10-23T17:38:50.460462Z",
          "shell.execute_reply.started": "2022-10-23T17:38:50.444032Z",
          "shell.execute_reply": "2022-10-23T17:38:50.459528Z"
        },
        "trusted": true
      },
      "execution_count": 11,
      "outputs": [
        {
          "output_type": "stream",
          "name": "stdout",
          "text": [
            "gotcha!  \n",
            "gotcha!  \n",
            "gotcha!  \n",
            "gotcha!  \n",
            "gotcha!  \n",
            "gotcha!  \n",
            "gotcha!  \n",
            "gotcha!  \n",
            "gotcha!  \n"
          ]
        },
        {
          "output_type": "execute_result",
          "data": {
            "text/plain": [
              "9"
            ]
          },
          "metadata": {},
          "execution_count": 11
        }
      ]
    },
    {
      "cell_type": "code",
      "source": [
        "#проверим, есть ли они где-то еще:\n",
        "np.where(df.applymap(lambda x: x == ' '))\n",
        "#больше нигде, кроме как в TotalSpent, нет"
      ],
      "metadata": {
        "colab": {
          "base_uri": "https://localhost:8080/"
        },
        "id": "6EFdIRY0X8Kq",
        "outputId": "a3be9db5-e011-40fd-b971-cc8d74a14f27",
        "execution": {
          "iopub.status.busy": "2022-10-23T17:38:50.464416Z",
          "iopub.execute_input": "2022-10-23T17:38:50.464810Z",
          "iopub.status.idle": "2022-10-23T17:38:50.508861Z",
          "shell.execute_reply.started": "2022-10-23T17:38:50.464773Z",
          "shell.execute_reply": "2022-10-23T17:38:50.507661Z"
        },
        "trusted": true
      },
      "execution_count": 12,
      "outputs": [
        {
          "output_type": "execute_result",
          "data": {
            "text/plain": [
              "(array([1048, 1707, 2543, 3078, 3697, 4002, 4326, 4551, 4598]),\n",
              " array([2, 2, 2, 2, 2, 2, 2, 2, 2]))"
            ]
          },
          "metadata": {},
          "execution_count": 12
        }
      ]
    },
    {
      "cell_type": "code",
      "source": [
        "#удалим пробелы:\n",
        "df = df.replace(' ', '0')\n",
        "#проверим\n",
        "np.where(df.applymap(lambda x: x == ' '))"
      ],
      "metadata": {
        "colab": {
          "base_uri": "https://localhost:8080/"
        },
        "id": "XKA6PTEUTJox",
        "outputId": "103abe1b-25bf-49e6-ce0c-25aae2475ea0",
        "execution": {
          "iopub.status.busy": "2022-10-23T17:38:50.510232Z",
          "iopub.execute_input": "2022-10-23T17:38:50.510623Z",
          "iopub.status.idle": "2022-10-23T17:38:50.556470Z",
          "shell.execute_reply.started": "2022-10-23T17:38:50.510589Z",
          "shell.execute_reply": "2022-10-23T17:38:50.555167Z"
        },
        "trusted": true
      },
      "execution_count": 13,
      "outputs": [
        {
          "output_type": "execute_result",
          "data": {
            "text/plain": [
              "(array([], dtype=int64), array([], dtype=int64))"
            ]
          },
          "metadata": {},
          "execution_count": 13
        }
      ]
    },
    {
      "cell_type": "code",
      "source": [
        "#приведем данные к числовому типу\n",
        "df['TotalSpent'] = df['TotalSpent'].astype('float64')"
      ],
      "metadata": {
        "id": "saQkQN1AstJP",
        "execution": {
          "iopub.status.busy": "2022-10-23T17:38:50.558458Z",
          "iopub.execute_input": "2022-10-23T17:38:50.558942Z",
          "iopub.status.idle": "2022-10-23T17:38:50.566531Z",
          "shell.execute_reply.started": "2022-10-23T17:38:50.558894Z",
          "shell.execute_reply": "2022-10-23T17:38:50.565262Z"
        },
        "trusted": true
      },
      "execution_count": 14,
      "outputs": []
    },
    {
      "cell_type": "markdown",
      "source": [
        "## Анализ данных (3 балла)\n",
        "\n",
        "1) Для численных призанков постройте гистограмму (*plt.hist(...)*) или boxplot (*plt.boxplot(...)*). Для категориальных посчитайте количество каждого значения для каждого признака. Для каждой колонки надо сделать *data.value_counts()* и построить bar диаграммы *plt.bar(...)* или круговые диаграммы *plt.pie(...)* (хорошо, елси вы сможете это сделать на одном гарфике с помощью *plt.subplots(...)*). \n",
        "\n",
        "2) Посмотрите на распределение целевой переменной и скажите, являются ли классы несбалансированными.\n",
        "\n",
        "3) (Если будет желание) Поиграйте с разными библиотеками для визуализации - *sns*, *pandas_visual_analysis*, etc.\n",
        "\n",
        "Второй пункт очень важен, потому что существуют задачи классификации с несбалансированными классами. Например, это может значить, что в датасете намного больше примеров 0 класса. В таких случаях нужно 1) не использовать accuracy как метрику 2) использовать методы борьбы с imbalanced dataset (обычно если датасет сильно несбалансирован, т.е. класса 1 в 20 раз меньше класса 0)."
      ],
      "metadata": {
        "id": "dK370bPCEEZD"
      }
    },
    {
      "cell_type": "code",
      "source": [
        "#построим гистограммы и боксплоты:\n",
        "\n",
        "fig, ax = plt.subplots(2, 3, figsize=(20,10))\n",
        "for ix, axis in enumerate(ax.flat):\n",
        "    if ix <= 2:\n",
        "      axis.set_title(num_cols[ix])\n",
        "      axis.hist(df[num_cols[ix]])\n",
        "    else:\n",
        "      axis.set_title(num_cols[ix - 3])\n",
        "      axis.boxplot(df[num_cols[ix - 3]])\n",
        "plt.show()"
      ],
      "metadata": {
        "id": "NZkbgFJZEEZE",
        "colab": {
          "base_uri": "https://localhost:8080/",
          "height": 607
        },
        "outputId": "76f7adf8-e88e-4a05-d2d1-b8d540ef7820",
        "execution": {
          "iopub.status.busy": "2022-10-23T17:38:50.568102Z",
          "iopub.execute_input": "2022-10-23T17:38:50.568719Z",
          "iopub.status.idle": "2022-10-23T17:38:51.396875Z",
          "shell.execute_reply.started": "2022-10-23T17:38:50.568677Z",
          "shell.execute_reply": "2022-10-23T17:38:51.395876Z"
        },
        "trusted": true
      },
      "execution_count": 15,
      "outputs": [
        {
          "output_type": "display_data",
          "data": {
            "text/plain": [
              "<Figure size 1440x720 with 6 Axes>"
            ],
            "image/png": "[encoded data removed]"
          },
          "metadata": {
            "needs_background": "light"
          }
        }
      ]
    },
    {
      "cell_type": "code",
      "source": [
        "#построим круговые диаграммы для категориальных фич\n",
        "\n",
        "import math\n",
        "\n",
        "N = len(cat_cols)\n",
        "\n",
        "n = math.ceil(math.sqrt(N))\n",
        "\n",
        "fig, ax = plt.subplots(n, n, figsize=(20,15))\n",
        "for ix, axis in enumerate(ax.flat):\n",
        "  df[cat_cols[ix]].value_counts().plot(kind='pie', ax=axis)\n",
        "plt.show()"
      ],
      "metadata": {
        "colab": {
          "base_uri": "https://localhost:8080/",
          "height": 846
        },
        "id": "0f7TxHNzuku8",
        "outputId": "4c08ff42-93bb-4324-b7d2-8a9be5b2421e",
        "execution": {
          "iopub.status.busy": "2022-10-23T17:38:51.398040Z",
          "iopub.execute_input": "2022-10-23T17:38:51.398689Z",
          "iopub.status.idle": "2022-10-23T17:38:52.818991Z",
          "shell.execute_reply.started": "2022-10-23T17:38:51.398651Z",
          "shell.execute_reply": "2022-10-23T17:38:52.818029Z"
        },
        "trusted": true
      },
      "execution_count": 16,
      "outputs": [
        {
          "output_type": "display_data",
          "data": {
            "text/plain": [
              "<Figure size 1440x1080 with 16 Axes>"
            ],
            "image/png": "[encoded data removed]"
          },
          "metadata": {}
        }
      ]
    },
    {
      "cell_type": "code",
      "source": [
        "#поглядим на распределение целевой величины\n",
        "df['Churn'].hist()\n",
        "#классы несбалансированы"
      ],
      "metadata": {
        "colab": {
          "base_uri": "https://localhost:8080/",
          "height": 286
        },
        "id": "nhgsyKEw65Aq",
        "outputId": "477072f6-ced4-4826-9244-3d8bb51045e5",
        "execution": {
          "iopub.status.busy": "2022-10-23T17:38:52.820484Z",
          "iopub.execute_input": "2022-10-23T17:38:52.821063Z",
          "iopub.status.idle": "2022-10-23T17:38:53.069251Z",
          "shell.execute_reply.started": "2022-10-23T17:38:52.821024Z",
          "shell.execute_reply": "2022-10-23T17:38:53.068379Z"
        },
        "trusted": true
      },
      "execution_count": 17,
      "outputs": [
        {
          "output_type": "execute_result",
          "data": {
            "text/plain": [
              "<matplotlib.axes._subplots.AxesSubplot at 0x7fa91464cfd0>"
            ]
          },
          "metadata": {},
          "execution_count": 17
        },
        {
          "output_type": "display_data",
          "data": {
            "text/plain": [
              "<Figure size 432x288 with 1 Axes>"
            ],
            "image/png": "[encoded data removed]"
          },
          "metadata": {
            "needs_background": "light"
          }
        }
      ]
    },
    {
      "cell_type": "markdown",
      "source": [
        "(Дополнительно) Если вы нашли какие-то ошибки в данных или выбросы, то можете их убрать. Тут можно поэксперементировать с обработкой данных как угодно, но не за баллы."
      ],
      "metadata": {
        "id": "zg60u3QDEEZH"
      }
    },
    {
      "cell_type": "markdown",
      "source": [
        "## Применение линейных моделей (3 балла)\n",
        "\n",
        "1) Обработайте данные для того, чтобы к ним можно было применить LogisticRegression. Т.е. отнормируйте числовые признаки, а категориальные закодируйте с помощью one-hot-encoding'а. \n",
        "\n",
        "2) С помощью кроссвалидации или разделения на train/valid выборку протестируйте разные значения гиперпараметра C и выберите лучший (можно тестировать С=100, 10, 1, 0.1, 0.01, 0.001) по метрике ROC-AUC. \n",
        "\n",
        "Если вы разделяете на train/valid, то используйте LogisticRegressionCV. Он сам при вызове .fit() подберет параметр С. (не забудьте передать scroing='roc_auc', чтобы при кроссвалидации сравнивались значения этой метрики, и refit=True, чтобы при потом модель обучилась на всем датасете с лучшим параметром C). \n",
        "\n",
        "\n",
        "(более сложный вариант) Если вы будете использовать кроссвалидацию, то преобразования данных и LogisticRegression нужно соединить в один Pipeline с помощью make_pipeline, как это делалось во втором семинаре. Потом pipeline надо передать в GridSearchCV. Для one-hot-encoding'a можно испльзовать комбинацию LabelEncoder + OneHotEncoder (сначала превращаем строчки в числа, а потом числа првращаем в one-hot вектора.)"
      ],
      "metadata": {
        "id": "DviiJd8REEZK"
      }
    },
    {
      "cell_type": "code",
      "source": [
        "from sklearn.linear_model import LogisticRegression, LogisticRegressionCV\n",
        "from sklearn.model_selection import train_test_split, GridSearchCV\n",
        "from sklearn.preprocessing import StandardScaler, RobustScaler, LabelEncoder, OneHotEncoder\n",
        "from sklearn.pipeline import make_pipeline"
      ],
      "metadata": {
        "id": "xHCLDmwqEEZL",
        "execution": {
          "iopub.status.busy": "2022-10-23T17:38:53.070471Z",
          "iopub.execute_input": "2022-10-23T17:38:53.071600Z",
          "iopub.status.idle": "2022-10-23T17:38:53.300080Z",
          "shell.execute_reply.started": "2022-10-23T17:38:53.071560Z",
          "shell.execute_reply": "2022-10-23T17:38:53.298767Z"
        },
        "trusted": true
      },
      "execution_count": 18,
      "outputs": []
    },
    {
      "cell_type": "code",
      "source": [
        "#создадим валидационные и тестовые выборки\n",
        "X_train, X_test, Y_train, Y_test = train_test_split(df[num_cols+cat_cols],\n",
        "                                                    df[target_col], \n",
        "                                                    test_size=0.2, random_state=42)"
      ],
      "metadata": {
        "id": "yAiUkFqM-uQz",
        "execution": {
          "iopub.status.busy": "2022-10-23T17:38:53.301582Z",
          "iopub.execute_input": "2022-10-23T17:38:53.301965Z",
          "iopub.status.idle": "2022-10-23T17:38:53.321074Z",
          "shell.execute_reply.started": "2022-10-23T17:38:53.301927Z",
          "shell.execute_reply": "2022-10-23T17:38:53.319066Z"
        },
        "trusted": true
      },
      "execution_count": 19,
      "outputs": []
    },
    {
      "cell_type": "code",
      "source": [
        "Y_train = Y_train.to_numpy()\n",
        "Y_test = Y_test.to_numpy()"
      ],
      "metadata": {
        "id": "Q03rhf6SCwYL",
        "execution": {
          "iopub.status.busy": "2022-10-23T17:38:53.323070Z",
          "iopub.execute_input": "2022-10-23T17:38:53.324451Z",
          "iopub.status.idle": "2022-10-23T17:38:53.331412Z",
          "shell.execute_reply.started": "2022-10-23T17:38:53.324391Z",
          "shell.execute_reply": "2022-10-23T17:38:53.329818Z"
        },
        "trusted": true
      },
      "execution_count": 20,
      "outputs": []
    },
    {
      "cell_type": "code",
      "source": [
        "#отнормируем данные\n",
        "scaler = StandardScaler()\n",
        "X_train_scaled = scaler.fit_transform(X_train[num_cols])\n",
        "X_test_scaled = scaler.transform(X_test[num_cols])"
      ],
      "metadata": {
        "id": "P2Yv3uYtEEZO",
        "execution": {
          "iopub.status.busy": "2022-10-23T17:38:53.334538Z",
          "iopub.execute_input": "2022-10-23T17:38:53.335148Z",
          "iopub.status.idle": "2022-10-23T17:38:53.354472Z",
          "shell.execute_reply.started": "2022-10-23T17:38:53.335110Z",
          "shell.execute_reply": "2022-10-23T17:38:53.353429Z"
        },
        "trusted": true
      },
      "execution_count": 21,
      "outputs": []
    },
    {
      "cell_type": "code",
      "source": [
        "#закодируем с помощью one-hot метода\n",
        "X_train_encoded = pd.get_dummies(X_train[cat_cols])\n",
        "X_test_encoded = pd.get_dummies(X_test[cat_cols])"
      ],
      "metadata": {
        "id": "_emeH5_PXVVP",
        "execution": {
          "iopub.status.busy": "2022-10-23T17:38:53.356059Z",
          "iopub.execute_input": "2022-10-23T17:38:53.356938Z",
          "iopub.status.idle": "2022-10-23T17:38:53.421736Z",
          "shell.execute_reply.started": "2022-10-23T17:38:53.356897Z",
          "shell.execute_reply": "2022-10-23T17:38:53.420558Z"
        },
        "trusted": true
      },
      "execution_count": 22,
      "outputs": []
    },
    {
      "cell_type": "code",
      "source": [
        "X_train = np.concatenate((X_train_scaled, X_train_encoded.to_numpy()), axis=1)\n",
        "\n",
        "X_test = np.concatenate((X_test_scaled, X_test_encoded.to_numpy()), axis=1)"
      ],
      "metadata": {
        "id": "MD1308S-DnAe",
        "execution": {
          "iopub.status.busy": "2022-10-23T17:38:53.423696Z",
          "iopub.execute_input": "2022-10-23T17:38:53.424072Z",
          "iopub.status.idle": "2022-10-23T17:38:53.434856Z",
          "shell.execute_reply.started": "2022-10-23T17:38:53.424037Z",
          "shell.execute_reply": "2022-10-23T17:38:53.433823Z"
        },
        "trusted": true
      },
      "execution_count": 23,
      "outputs": []
    },
    {
      "cell_type": "code",
      "source": [
        "cs = [i for i in range(1,10,1)] #список коэффициентов регуляризации"
      ],
      "metadata": {
        "id": "5OQCjeD_2kwd",
        "execution": {
          "iopub.status.busy": "2022-10-23T17:38:53.436392Z",
          "iopub.execute_input": "2022-10-23T17:38:53.437500Z",
          "iopub.status.idle": "2022-10-23T17:38:53.444654Z",
          "shell.execute_reply.started": "2022-10-23T17:38:53.437448Z",
          "shell.execute_reply": "2022-10-23T17:38:53.443236Z"
        },
        "trusted": true
      },
      "execution_count": 24,
      "outputs": []
    },
    {
      "cell_type": "code",
      "source": [
        "model = LogisticRegressionCV(Cs=cs, cv=7, random_state=42, refit=True,\n",
        "                             scoring = 'roc_auc', max_iter=1000)\n",
        "model.fit(X_train, Y_train)\n"
      ],
      "metadata": {
        "id": "9vs8nbXMH1Ta",
        "colab": {
          "base_uri": "https://localhost:8080/"
        },
        "outputId": "605183eb-96f9-4ec9-80c6-ea34b49256a6",
        "execution": {
          "iopub.status.busy": "2022-10-23T17:38:53.446406Z",
          "iopub.execute_input": "2022-10-23T17:38:53.446900Z",
          "iopub.status.idle": "2022-10-23T17:38:56.620238Z",
          "shell.execute_reply.started": "2022-10-23T17:38:53.446837Z",
          "shell.execute_reply": "2022-10-23T17:38:56.618623Z"
        },
        "trusted": true
      },
      "execution_count": 25,
      "outputs": [
        {
          "output_type": "execute_result",
          "data": {
            "text/plain": [
              "LogisticRegressionCV(Cs=[1, 2, 3, 4, 5, 6, 7, 8, 9], cv=7, max_iter=1000,\n",
              "                     random_state=42, scoring='roc_auc')"
            ]
          },
          "metadata": {},
          "execution_count": 25
        }
      ]
    },
    {
      "cell_type": "code",
      "source": [
        "print(model.C_)"
      ],
      "metadata": {
        "colab": {
          "base_uri": "https://localhost:8080/"
        },
        "id": "uszJz1FGJrtV",
        "outputId": "e3fb7ec0-745b-4baf-9cbe-6e18b2377995",
        "execution": {
          "iopub.status.busy": "2022-10-23T17:38:56.623026Z",
          "iopub.execute_input": "2022-10-23T17:38:56.624260Z",
          "iopub.status.idle": "2022-10-23T17:38:56.633420Z",
          "shell.execute_reply.started": "2022-10-23T17:38:56.624191Z",
          "shell.execute_reply": "2022-10-23T17:38:56.631772Z"
        },
        "trusted": true
      },
      "execution_count": 26,
      "outputs": [
        {
          "output_type": "stream",
          "name": "stdout",
          "text": [
            "[5]\n"
          ]
        }
      ]
    },
    {
      "cell_type": "code",
      "source": [
        "train_score = model.score(X_train, Y_train)\n",
        "train_score"
      ],
      "metadata": {
        "colab": {
          "base_uri": "https://localhost:8080/"
        },
        "id": "UyA6IJOvK4Om",
        "outputId": "ebae0275-8408-4ee5-af5b-e5c0c42361ae",
        "execution": {
          "iopub.status.busy": "2022-10-23T17:38:56.636368Z",
          "iopub.execute_input": "2022-10-23T17:38:56.637605Z",
          "iopub.status.idle": "2022-10-23T17:38:56.663481Z",
          "shell.execute_reply.started": "2022-10-23T17:38:56.637521Z",
          "shell.execute_reply": "2022-10-23T17:38:56.661831Z"
        },
        "trusted": true
      },
      "execution_count": 27,
      "outputs": [
        {
          "output_type": "execute_result",
          "data": {
            "text/plain": [
              "0.853655945273877"
            ]
          },
          "metadata": {},
          "execution_count": 27
        }
      ]
    },
    {
      "cell_type": "code",
      "source": [
        "test_score = model.score(X_test, Y_test)\n",
        "test_score"
      ],
      "metadata": {
        "colab": {
          "base_uri": "https://localhost:8080/"
        },
        "id": "rFUB_6WP_Oic",
        "outputId": "f96b08dd-7e6e-499a-9323-b99e512d5aba",
        "execution": {
          "iopub.status.busy": "2022-10-23T17:38:56.671188Z",
          "iopub.execute_input": "2022-10-23T17:38:56.675640Z",
          "iopub.status.idle": "2022-10-23T17:38:56.700204Z",
          "shell.execute_reply.started": "2022-10-23T17:38:56.675550Z",
          "shell.execute_reply": "2022-10-23T17:38:56.698133Z"
        },
        "trusted": true
      },
      "execution_count": 28,
      "outputs": [
        {
          "output_type": "execute_result",
          "data": {
            "text/plain": [
              "0.828063095095169"
            ]
          },
          "metadata": {},
          "execution_count": 28
        }
      ]
    },
    {
      "cell_type": "markdown",
      "source": [
        "Выпишите какое лучшее качество и с какими параметрами вам удалось получить  \n",
        "**best_rocauc = 0.828063095095169\\\n",
        "C = 5**"
      ],
      "metadata": {
        "id": "uVahy6JKEEZQ"
      }
    },
    {
      "cell_type": "markdown",
      "source": [
        "## Применение градиентного бустинга (2 балла)\n",
        "\n",
        "Если вы хотите получить баллы за точный ответ, то стоит попробовать градиентный бустинг. Часто градиентный бустинг с дефолтными параметрами даст вам 80% результата за 0% усилий.\n",
        "\n",
        "Мы будем использовать catboost, поэтому нам не надо кодировать категориальные признаки. catboost сделает это сам (в .fit() надо передать cat_features=cat_cols). А численные признаки нормировать для моделей, основанных на деревьях не нужно.\n",
        "\n",
        "1) Разделите выборку на train/valid. Протестируйте catboost cо стандартными параметрами.\n",
        "\n",
        "2) Протестируйте разные занчения параметроа количества деревьев и learning_rate'а и выберите лучшую по метрике ROC-AUC комбинацию. \n",
        "\n",
        "(Дополнительно) Есть некоторые сложности с тем, чтобы использовать CatBoostClassifier вместе с GridSearchCV, поэтому мы не просим использовать кроссвалидацию. Но можете попробовать)"
      ],
      "metadata": {
        "id": "BlTeVy7fEEZR"
      }
    },
    {
      "cell_type": "code",
      "source": [
        "#создадим необработанные выборки для catboost\n",
        "X_train, X_test, Y_train, Y_test = train_test_split(df[num_cols+cat_cols],\n",
        "                                                    df[target_col], \n",
        "                                                    test_size=0.2, random_state=42)"
      ],
      "metadata": {
        "id": "Fioxxlp-EEZS",
        "execution": {
          "iopub.status.busy": "2022-10-23T17:38:56.707937Z",
          "iopub.execute_input": "2022-10-23T17:38:56.709046Z",
          "iopub.status.idle": "2022-10-23T17:38:56.728067Z",
          "shell.execute_reply.started": "2022-10-23T17:38:56.708980Z",
          "shell.execute_reply": "2022-10-23T17:38:56.726006Z"
        },
        "trusted": true
      },
      "execution_count": null,
      "outputs": []
    },
    {
      "cell_type": "code",
      "source": [
        "!pip install catboost"
      ],
      "metadata": {
        "id": "krsdhUIM8BII",
        "execution": {
          "iopub.status.busy": "2022-10-23T17:38:56.736892Z",
          "iopub.execute_input": "2022-10-23T17:38:56.737860Z",
          "iopub.status.idle": "2022-10-23T17:39:10.481124Z",
          "shell.execute_reply.started": "2022-10-23T17:38:56.737812Z",
          "shell.execute_reply": "2022-10-23T17:39:10.479488Z"
        },
        "trusted": true,
        "outputId": "ca876b73-6879-4c7a-e049-dbb6a587e2e1"
      },
      "execution_count": null,
      "outputs": [
        {
          "name": "stdout",
          "text": "Requirement already satisfied: catboost in /opt/conda/lib/python3.7/site-packages (1.1)\nRequirement already satisfied: plotly in /opt/conda/lib/python3.7/site-packages (from catboost) (5.10.0)\nRequirement already satisfied: matplotlib in /opt/conda/lib/python3.7/site-packages (from catboost) (3.5.3)\nRequirement already satisfied: numpy>=1.16.0 in /opt/conda/lib/python3.7/site-packages (from catboost) (1.21.6)\nRequirement already satisfied: pandas>=0.24.0 in /opt/conda/lib/python3.7/site-packages (from catboost) (1.3.5)\nRequirement already satisfied: scipy in /opt/conda/lib/python3.7/site-packages (from catboost) (1.7.3)\nRequirement already satisfied: six in /opt/conda/lib/python3.7/site-packages (from catboost) (1.15.0)\nRequirement already satisfied: graphviz in /opt/conda/lib/python3.7/site-packages (from catboost) (0.8.4)\nRequirement already satisfied: python-dateutil>=2.7.3 in /opt/conda/lib/python3.7/site-packages (from pandas>=0.24.0->catboost) (2.8.2)\nRequirement already satisfied: pytz>=2017.3 in /opt/conda/lib/python3.7/site-packages (from pandas>=0.24.0->catboost) (2022.1)\nRequirement already satisfied: fonttools>=4.22.0 in /opt/conda/lib/python3.7/site-packages (from matplotlib->catboost) (4.33.3)\nRequirement already satisfied: packaging>=20.0 in /opt/conda/lib/python3.7/site-packages (from matplotlib->catboost) (21.3)\nRequirement already satisfied: kiwisolver>=1.0.1 in /opt/conda/lib/python3.7/site-packages (from matplotlib->catboost) (1.4.3)\nRequirement already satisfied: cycler>=0.10 in /opt/conda/lib/python3.7/site-packages (from matplotlib->catboost) (0.11.0)\nRequirement already satisfied: pyparsing>=2.2.1 in /opt/conda/lib/python3.7/site-packages (from matplotlib->catboost) (3.0.9)\nRequirement already satisfied: pillow>=6.2.0 in /opt/conda/lib/python3.7/site-packages (from matplotlib->catboost) (9.1.1)\nRequirement already satisfied: tenacity>=6.2.0 in /opt/conda/lib/python3.7/site-packages (from plotly->catboost) (8.0.1)\nRequirement already satisfied: typing-extensions in /opt/conda/lib/python3.7/site-packages (from kiwisolver>=1.0.1->matplotlib->catboost) (4.4.0)\n\u001b[33mWARNING: Running pip as the 'root' user can result in broken permissions and conflicting behaviour with the system package manager. It is recommended to use a virtual environment instead: https://pip.pypa.io/warnings/venv\u001b[0m\u001b[33m\n\u001b[0m",
          "output_type": "stream"
        }
      ]
    },
    {
      "cell_type": "code",
      "source": [
        "import catboost"
      ],
      "metadata": {
        "id": "1Nrb2GT-70R_",
        "execution": {
          "iopub.status.busy": "2022-10-23T17:39:10.483047Z",
          "iopub.execute_input": "2022-10-23T17:39:10.483455Z",
          "iopub.status.idle": "2022-10-23T17:39:10.970730Z",
          "shell.execute_reply.started": "2022-10-23T17:39:10.483412Z",
          "shell.execute_reply": "2022-10-23T17:39:10.969464Z"
        },
        "trusted": true
      },
      "execution_count": null,
      "outputs": []
    },
    {
      "cell_type": "code",
      "source": [
        "#найдем индексы категориальных колонок\n",
        "cat_indices = [i for i, item in enumerate(df.columns) if item in cat_cols]\n",
        "#num_indices = [i for i, item in enumerate(df.columns) if item in num_cols]"
      ],
      "metadata": {
        "id": "zKPSTh-p9q4d",
        "execution": {
          "iopub.status.busy": "2022-10-23T17:39:10.972021Z",
          "iopub.execute_input": "2022-10-23T17:39:10.972379Z",
          "iopub.status.idle": "2022-10-23T17:39:10.978877Z",
          "shell.execute_reply.started": "2022-10-23T17:39:10.972346Z",
          "shell.execute_reply": "2022-10-23T17:39:10.977566Z"
        },
        "trusted": true
      },
      "execution_count": null,
      "outputs": []
    },
    {
      "cell_type": "code",
      "source": [
        "boosting_model = catboost.CatBoostClassifier(eval_metric='AUC',random_seed = 42,\n",
        "                                             cat_features=cat_indices)\n",
        "boosting_model.fit(X_train, Y_train)"
      ],
      "metadata": {
        "id": "TNBAdKw87-GZ",
        "colab": {
          "base_uri": "https://localhost:8080/"
        },
        "outputId": "034af328-cad0-47b0-bb30-c80c63aab420",
        "_kg_hide-output": true,
        "execution": {
          "iopub.status.busy": "2022-10-23T17:39:10.980375Z",
          "iopub.execute_input": "2022-10-23T17:39:10.980712Z",
          "iopub.status.idle": "2022-10-23T17:39:23.014467Z",
          "shell.execute_reply.started": "2022-10-23T17:39:10.980681Z",
          "shell.execute_reply": "2022-10-23T17:39:23.013232Z"
        },
        "trusted": true
      },
      "execution_count": null,
      "outputs": [
        {
          "name": "stdout",
          "text": "Learning rate set to 0.019062\n0:\ttotal: 76.2ms\tremaining: 1m 16s\n1:\ttotal: 89.7ms\tremaining: 44.7s\n2:\ttotal: 106ms\tremaining: 35.2s\n3:\ttotal: 119ms\tremaining: 29.7s\n4:\ttotal: 131ms\tremaining: 26.1s\n5:\ttotal: 142ms\tremaining: 23.5s\n6:\ttotal: 153ms\tremaining: 21.8s\n7:\ttotal: 160ms\tremaining: 19.8s\n8:\ttotal: 168ms\tremaining: 18.5s\n9:\ttotal: 179ms\tremaining: 17.7s\n10:\ttotal: 192ms\tremaining: 17.3s\n11:\ttotal: 196ms\tremaining: 16.1s\n12:\ttotal: 210ms\tremaining: 16s\n13:\ttotal: 217ms\tremaining: 15.2s\n14:\ttotal: 225ms\tremaining: 14.8s\n15:\ttotal: 238ms\tremaining: 14.6s\n16:\ttotal: 246ms\tremaining: 14.2s\n17:\ttotal: 259ms\tremaining: 14.1s\n18:\ttotal: 267ms\tremaining: 13.8s\n19:\ttotal: 280ms\tremaining: 13.7s\n20:\ttotal: 291ms\tremaining: 13.6s\n21:\ttotal: 303ms\tremaining: 13.5s\n22:\ttotal: 314ms\tremaining: 13.3s\n23:\ttotal: 321ms\tremaining: 13.1s\n24:\ttotal: 334ms\tremaining: 13s\n25:\ttotal: 347ms\tremaining: 13s\n26:\ttotal: 356ms\tremaining: 12.8s\n27:\ttotal: 368ms\tremaining: 12.8s\n28:\ttotal: 380ms\tremaining: 12.7s\n29:\ttotal: 392ms\tremaining: 12.7s\n30:\ttotal: 405ms\tremaining: 12.7s\n31:\ttotal: 419ms\tremaining: 12.7s\n32:\ttotal: 432ms\tremaining: 12.7s\n33:\ttotal: 443ms\tremaining: 12.6s\n34:\ttotal: 448ms\tremaining: 12.3s\n35:\ttotal: 460ms\tremaining: 12.3s\n36:\ttotal: 472ms\tremaining: 12.3s\n37:\ttotal: 477ms\tremaining: 12.1s\n38:\ttotal: 489ms\tremaining: 12.1s\n39:\ttotal: 500ms\tremaining: 12s\n40:\ttotal: 512ms\tremaining: 12s\n41:\ttotal: 523ms\tremaining: 11.9s\n42:\ttotal: 534ms\tremaining: 11.9s\n43:\ttotal: 547ms\tremaining: 11.9s\n44:\ttotal: 557ms\tremaining: 11.8s\n45:\ttotal: 569ms\tremaining: 11.8s\n46:\ttotal: 581ms\tremaining: 11.8s\n47:\ttotal: 593ms\tremaining: 11.8s\n48:\ttotal: 599ms\tremaining: 11.6s\n49:\ttotal: 611ms\tremaining: 11.6s\n50:\ttotal: 622ms\tremaining: 11.6s\n51:\ttotal: 634ms\tremaining: 11.6s\n52:\ttotal: 645ms\tremaining: 11.5s\n53:\ttotal: 657ms\tremaining: 11.5s\n54:\ttotal: 669ms\tremaining: 11.5s\n55:\ttotal: 680ms\tremaining: 11.5s\n56:\ttotal: 692ms\tremaining: 11.5s\n57:\ttotal: 702ms\tremaining: 11.4s\n58:\ttotal: 715ms\tremaining: 11.4s\n59:\ttotal: 725ms\tremaining: 11.4s\n60:\ttotal: 736ms\tremaining: 11.3s\n61:\ttotal: 748ms\tremaining: 11.3s\n62:\ttotal: 754ms\tremaining: 11.2s\n63:\ttotal: 766ms\tremaining: 11.2s\n64:\ttotal: 778ms\tremaining: 11.2s\n65:\ttotal: 792ms\tremaining: 11.2s\n66:\ttotal: 805ms\tremaining: 11.2s\n67:\ttotal: 817ms\tremaining: 11.2s\n68:\ttotal: 825ms\tremaining: 11.1s\n69:\ttotal: 833ms\tremaining: 11.1s\n70:\ttotal: 845ms\tremaining: 11.1s\n71:\ttotal: 858ms\tremaining: 11.1s\n72:\ttotal: 870ms\tremaining: 11s\n73:\ttotal: 881ms\tremaining: 11s\n74:\ttotal: 892ms\tremaining: 11s\n75:\ttotal: 898ms\tremaining: 10.9s\n76:\ttotal: 915ms\tremaining: 11s\n77:\ttotal: 927ms\tremaining: 11s\n78:\ttotal: 938ms\tremaining: 10.9s\n79:\ttotal: 949ms\tremaining: 10.9s\n80:\ttotal: 960ms\tremaining: 10.9s\n81:\ttotal: 972ms\tremaining: 10.9s\n82:\ttotal: 984ms\tremaining: 10.9s\n83:\ttotal: 992ms\tremaining: 10.8s\n84:\ttotal: 1s\tremaining: 10.8s\n85:\ttotal: 1.02s\tremaining: 10.8s\n86:\ttotal: 1.03s\tremaining: 10.8s\n87:\ttotal: 1.04s\tremaining: 10.8s\n88:\ttotal: 1.05s\tremaining: 10.8s\n89:\ttotal: 1.06s\tremaining: 10.8s\n90:\ttotal: 1.07s\tremaining: 10.7s\n91:\ttotal: 1.08s\tremaining: 10.6s\n92:\ttotal: 1.09s\tremaining: 10.6s\n93:\ttotal: 1.1s\tremaining: 10.6s\n94:\ttotal: 1.11s\tremaining: 10.6s\n95:\ttotal: 1.13s\tremaining: 10.6s\n96:\ttotal: 1.13s\tremaining: 10.5s\n97:\ttotal: 1.14s\tremaining: 10.5s\n98:\ttotal: 1.15s\tremaining: 10.5s\n99:\ttotal: 1.16s\tremaining: 10.4s\n100:\ttotal: 1.17s\tremaining: 10.4s\n101:\ttotal: 1.18s\tremaining: 10.4s\n102:\ttotal: 1.19s\tremaining: 10.4s\n103:\ttotal: 1.2s\tremaining: 10.3s\n104:\ttotal: 1.21s\tremaining: 10.3s\n105:\ttotal: 1.22s\tremaining: 10.3s\n106:\ttotal: 1.24s\tremaining: 10.3s\n107:\ttotal: 1.24s\tremaining: 10.3s\n108:\ttotal: 1.25s\tremaining: 10.2s\n109:\ttotal: 1.26s\tremaining: 10.2s\n110:\ttotal: 1.27s\tremaining: 10.2s\n111:\ttotal: 1.28s\tremaining: 10.2s\n112:\ttotal: 1.29s\tremaining: 10.1s\n113:\ttotal: 1.3s\tremaining: 10.1s\n114:\ttotal: 1.31s\tremaining: 10.1s\n115:\ttotal: 1.32s\tremaining: 10.1s\n116:\ttotal: 1.34s\tremaining: 10.1s\n117:\ttotal: 1.35s\tremaining: 10.1s\n118:\ttotal: 1.36s\tremaining: 10.1s\n119:\ttotal: 1.37s\tremaining: 10s\n120:\ttotal: 1.38s\tremaining: 10s\n121:\ttotal: 1.39s\tremaining: 10s\n122:\ttotal: 1.4s\tremaining: 9.97s\n123:\ttotal: 1.41s\tremaining: 9.93s\n124:\ttotal: 1.41s\tremaining: 9.88s\n125:\ttotal: 1.43s\tremaining: 9.88s\n126:\ttotal: 1.44s\tremaining: 9.88s\n127:\ttotal: 1.45s\tremaining: 9.87s\n128:\ttotal: 1.46s\tremaining: 9.87s\n129:\ttotal: 1.47s\tremaining: 9.81s\n130:\ttotal: 1.47s\tremaining: 9.76s\n131:\ttotal: 1.47s\tremaining: 9.7s\n132:\ttotal: 1.49s\tremaining: 9.69s\n133:\ttotal: 1.5s\tremaining: 9.69s\n134:\ttotal: 1.51s\tremaining: 9.68s\n135:\ttotal: 1.52s\tremaining: 9.68s\n136:\ttotal: 1.53s\tremaining: 9.67s\n137:\ttotal: 1.55s\tremaining: 9.67s\n138:\ttotal: 1.56s\tremaining: 9.66s\n139:\ttotal: 1.57s\tremaining: 9.64s\n140:\ttotal: 1.58s\tremaining: 9.62s\n141:\ttotal: 1.59s\tremaining: 9.61s\n142:\ttotal: 1.6s\tremaining: 9.6s\n143:\ttotal: 1.61s\tremaining: 9.57s\n144:\ttotal: 1.62s\tremaining: 9.56s\n145:\ttotal: 1.64s\tremaining: 9.57s\n146:\ttotal: 1.65s\tremaining: 9.56s\n147:\ttotal: 1.66s\tremaining: 9.55s\n148:\ttotal: 1.67s\tremaining: 9.55s\n149:\ttotal: 1.68s\tremaining: 9.54s\n150:\ttotal: 1.69s\tremaining: 9.49s\n151:\ttotal: 1.69s\tremaining: 9.45s\n152:\ttotal: 1.71s\tremaining: 9.44s\n153:\ttotal: 1.72s\tremaining: 9.44s\n154:\ttotal: 1.73s\tremaining: 9.41s\n155:\ttotal: 1.74s\tremaining: 9.4s\n156:\ttotal: 1.75s\tremaining: 9.4s\n157:\ttotal: 1.75s\tremaining: 9.36s\n158:\ttotal: 1.76s\tremaining: 9.31s\n159:\ttotal: 1.77s\tremaining: 9.3s\n160:\ttotal: 1.78s\tremaining: 9.26s\n161:\ttotal: 1.78s\tremaining: 9.23s\n162:\ttotal: 1.8s\tremaining: 9.22s\n163:\ttotal: 1.81s\tremaining: 9.22s\n164:\ttotal: 1.82s\tremaining: 9.21s\n165:\ttotal: 1.83s\tremaining: 9.2s\n166:\ttotal: 1.84s\tremaining: 9.19s\n167:\ttotal: 1.85s\tremaining: 9.19s\n168:\ttotal: 1.87s\tremaining: 9.18s\n169:\ttotal: 1.88s\tremaining: 9.18s\n170:\ttotal: 1.89s\tremaining: 9.17s\n171:\ttotal: 1.9s\tremaining: 9.14s\n172:\ttotal: 1.91s\tremaining: 9.13s\n173:\ttotal: 1.92s\tremaining: 9.13s\n174:\ttotal: 1.93s\tremaining: 9.12s\n175:\ttotal: 1.95s\tremaining: 9.11s\n176:\ttotal: 1.96s\tremaining: 9.1s\n177:\ttotal: 1.97s\tremaining: 9.1s\n178:\ttotal: 1.98s\tremaining: 9.09s\n179:\ttotal: 1.99s\tremaining: 9.07s\n180:\ttotal: 2s\tremaining: 9.04s\n181:\ttotal: 2.01s\tremaining: 9.03s\n182:\ttotal: 2.02s\tremaining: 9.03s\n183:\ttotal: 2.03s\tremaining: 9.02s\n184:\ttotal: 2.04s\tremaining: 8.99s\n185:\ttotal: 2.05s\tremaining: 8.99s\n186:\ttotal: 2.06s\tremaining: 8.95s\n187:\ttotal: 2.06s\tremaining: 8.91s\n188:\ttotal: 2.07s\tremaining: 8.88s\n189:\ttotal: 2.08s\tremaining: 8.87s\n190:\ttotal: 2.09s\tremaining: 8.86s\n191:\ttotal: 2.1s\tremaining: 8.86s\n192:\ttotal: 2.12s\tremaining: 8.85s\n193:\ttotal: 2.13s\tremaining: 8.84s\n194:\ttotal: 2.14s\tremaining: 8.83s\n195:\ttotal: 2.15s\tremaining: 8.82s\n196:\ttotal: 2.16s\tremaining: 8.79s\n197:\ttotal: 2.17s\tremaining: 8.78s\n198:\ttotal: 2.18s\tremaining: 8.77s\n199:\ttotal: 2.19s\tremaining: 8.75s\n200:\ttotal: 2.2s\tremaining: 8.75s\n201:\ttotal: 2.2s\tremaining: 8.71s\n202:\ttotal: 2.21s\tremaining: 8.68s\n203:\ttotal: 2.22s\tremaining: 8.67s\n204:\ttotal: 2.23s\tremaining: 8.66s\n205:\ttotal: 2.25s\tremaining: 8.65s\n206:\ttotal: 2.26s\tremaining: 8.65s\n207:\ttotal: 2.26s\tremaining: 8.62s\n208:\ttotal: 2.28s\tremaining: 8.62s\n209:\ttotal: 2.29s\tremaining: 8.61s\n210:\ttotal: 2.3s\tremaining: 8.61s\n211:\ttotal: 2.31s\tremaining: 8.57s\n212:\ttotal: 2.32s\tremaining: 8.57s\n213:\ttotal: 2.33s\tremaining: 8.56s\n214:\ttotal: 2.34s\tremaining: 8.56s\n215:\ttotal: 2.35s\tremaining: 8.53s\n216:\ttotal: 2.36s\tremaining: 8.52s\n217:\ttotal: 2.37s\tremaining: 8.51s\n218:\ttotal: 2.38s\tremaining: 8.51s\n219:\ttotal: 2.4s\tremaining: 8.49s\n220:\ttotal: 2.41s\tremaining: 8.49s\n221:\ttotal: 2.42s\tremaining: 8.48s\n222:\ttotal: 2.43s\tremaining: 8.47s\n223:\ttotal: 2.44s\tremaining: 8.46s\n224:\ttotal: 2.45s\tremaining: 8.43s\n225:\ttotal: 2.46s\tremaining: 8.43s\n226:\ttotal: 2.46s\tremaining: 8.39s\n227:\ttotal: 2.48s\tremaining: 8.39s\n228:\ttotal: 2.49s\tremaining: 8.38s\n229:\ttotal: 2.49s\tremaining: 8.35s\n230:\ttotal: 2.5s\tremaining: 8.34s\n231:\ttotal: 2.52s\tremaining: 8.33s\n232:\ttotal: 2.52s\tremaining: 8.3s\n233:\ttotal: 2.53s\tremaining: 8.29s\n234:\ttotal: 2.54s\tremaining: 8.29s\n235:\ttotal: 2.56s\tremaining: 8.28s\n236:\ttotal: 2.57s\tremaining: 8.27s\n237:\ttotal: 2.58s\tremaining: 8.24s\n238:\ttotal: 2.58s\tremaining: 8.22s\n239:\ttotal: 2.59s\tremaining: 8.21s\n240:\ttotal: 2.6s\tremaining: 8.21s\n241:\ttotal: 2.62s\tremaining: 8.2s\n242:\ttotal: 2.62s\tremaining: 8.16s\n243:\ttotal: 2.63s\tremaining: 8.14s\n244:\ttotal: 2.63s\tremaining: 8.12s\n245:\ttotal: 2.65s\tremaining: 8.11s\n246:\ttotal: 2.66s\tremaining: 8.1s\n247:\ttotal: 2.67s\tremaining: 8.1s\n248:\ttotal: 2.68s\tremaining: 8.09s\n249:\ttotal: 2.69s\tremaining: 8.08s\n250:\ttotal: 2.71s\tremaining: 8.08s\n251:\ttotal: 2.72s\tremaining: 8.07s\n252:\ttotal: 2.72s\tremaining: 8.04s\n253:\ttotal: 2.73s\tremaining: 8.01s\n254:\ttotal: 2.74s\tremaining: 8s\n255:\ttotal: 2.75s\tremaining: 7.99s\n256:\ttotal: 2.76s\tremaining: 7.97s\n257:\ttotal: 2.77s\tremaining: 7.96s\n258:\ttotal: 2.77s\tremaining: 7.93s\n259:\ttotal: 2.78s\tremaining: 7.92s\n260:\ttotal: 2.79s\tremaining: 7.9s\n261:\ttotal: 2.8s\tremaining: 7.89s\n262:\ttotal: 2.81s\tremaining: 7.86s\n263:\ttotal: 2.82s\tremaining: 7.85s\n264:\ttotal: 2.83s\tremaining: 7.85s\n265:\ttotal: 2.84s\tremaining: 7.84s\n266:\ttotal: 2.85s\tremaining: 7.81s\n267:\ttotal: 2.86s\tremaining: 7.8s\n268:\ttotal: 2.87s\tremaining: 7.8s\n269:\ttotal: 2.88s\tremaining: 7.79s\n270:\ttotal: 2.89s\tremaining: 7.78s\n271:\ttotal: 2.9s\tremaining: 7.76s\n272:\ttotal: 2.9s\tremaining: 7.73s\n273:\ttotal: 2.92s\tremaining: 7.72s\n274:\ttotal: 2.92s\tremaining: 7.7s\n275:\ttotal: 2.93s\tremaining: 7.69s\n276:\ttotal: 2.94s\tremaining: 7.68s\n277:\ttotal: 2.96s\tremaining: 7.67s\n278:\ttotal: 2.97s\tremaining: 7.67s\n279:\ttotal: 2.98s\tremaining: 7.66s\n280:\ttotal: 2.99s\tremaining: 7.66s\n281:\ttotal: 3s\tremaining: 7.65s\n282:\ttotal: 3.01s\tremaining: 7.62s\n283:\ttotal: 3.02s\tremaining: 7.61s\n284:\ttotal: 3.03s\tremaining: 7.6s\n285:\ttotal: 3.04s\tremaining: 7.59s\n286:\ttotal: 3.05s\tremaining: 7.59s\n287:\ttotal: 3.06s\tremaining: 7.56s\n288:\ttotal: 3.07s\tremaining: 7.56s\n289:\ttotal: 3.08s\tremaining: 7.55s\n290:\ttotal: 3.1s\tremaining: 7.54s\n291:\ttotal: 3.11s\tremaining: 7.54s\n292:\ttotal: 3.11s\tremaining: 7.51s\n293:\ttotal: 3.12s\tremaining: 7.49s\n294:\ttotal: 3.13s\tremaining: 7.48s\n295:\ttotal: 3.14s\tremaining: 7.47s\n296:\ttotal: 3.15s\tremaining: 7.46s\n297:\ttotal: 3.16s\tremaining: 7.45s\n298:\ttotal: 3.18s\tremaining: 7.45s\n299:\ttotal: 3.19s\tremaining: 7.43s\n300:\ttotal: 3.2s\tremaining: 7.42s\n301:\ttotal: 3.21s\tremaining: 7.42s\n302:\ttotal: 3.22s\tremaining: 7.41s\n303:\ttotal: 3.23s\tremaining: 7.4s\n304:\ttotal: 3.24s\tremaining: 7.39s\n305:\ttotal: 3.25s\tremaining: 7.38s\n306:\ttotal: 3.27s\tremaining: 7.37s\n307:\ttotal: 3.28s\tremaining: 7.37s\n308:\ttotal: 3.29s\tremaining: 7.35s\n309:\ttotal: 3.3s\tremaining: 7.34s\n310:\ttotal: 3.31s\tremaining: 7.33s\n311:\ttotal: 3.32s\tremaining: 7.33s\n312:\ttotal: 3.33s\tremaining: 7.3s\n313:\ttotal: 3.34s\tremaining: 7.29s\n314:\ttotal: 3.35s\tremaining: 7.29s\n315:\ttotal: 3.36s\tremaining: 7.28s\n316:\ttotal: 3.38s\tremaining: 7.27s\n317:\ttotal: 3.39s\tremaining: 7.27s\n318:\ttotal: 3.4s\tremaining: 7.26s\n319:\ttotal: 3.41s\tremaining: 7.25s\n320:\ttotal: 3.42s\tremaining: 7.24s\n321:\ttotal: 3.43s\tremaining: 7.23s\n322:\ttotal: 3.45s\tremaining: 7.22s\n323:\ttotal: 3.46s\tremaining: 7.22s\n324:\ttotal: 3.46s\tremaining: 7.19s\n325:\ttotal: 3.47s\tremaining: 7.17s\n326:\ttotal: 3.48s\tremaining: 7.17s\n327:\ttotal: 3.49s\tremaining: 7.16s\n328:\ttotal: 3.5s\tremaining: 7.15s\n329:\ttotal: 3.52s\tremaining: 7.14s\n330:\ttotal: 3.53s\tremaining: 7.13s\n331:\ttotal: 3.54s\tremaining: 7.13s\n332:\ttotal: 3.55s\tremaining: 7.12s\n333:\ttotal: 3.56s\tremaining: 7.11s\n334:\ttotal: 3.58s\tremaining: 7.1s\n335:\ttotal: 3.59s\tremaining: 7.09s\n336:\ttotal: 3.6s\tremaining: 7.08s\n337:\ttotal: 3.61s\tremaining: 7.07s\n338:\ttotal: 3.62s\tremaining: 7.05s\n339:\ttotal: 3.63s\tremaining: 7.04s\n340:\ttotal: 3.64s\tremaining: 7.03s\n341:\ttotal: 3.65s\tremaining: 7.02s\n342:\ttotal: 3.65s\tremaining: 7s\n343:\ttotal: 3.66s\tremaining: 6.99s\n344:\ttotal: 3.68s\tremaining: 6.98s\n345:\ttotal: 3.69s\tremaining: 6.97s\n346:\ttotal: 3.69s\tremaining: 6.96s\n347:\ttotal: 3.71s\tremaining: 6.95s\n348:\ttotal: 3.72s\tremaining: 6.94s\n349:\ttotal: 3.73s\tremaining: 6.93s\n350:\ttotal: 3.75s\tremaining: 6.92s\n351:\ttotal: 3.76s\tremaining: 6.92s\n352:\ttotal: 3.77s\tremaining: 6.91s\n353:\ttotal: 3.78s\tremaining: 6.9s\n354:\ttotal: 3.79s\tremaining: 6.89s\n355:\ttotal: 3.8s\tremaining: 6.88s\n356:\ttotal: 3.82s\tremaining: 6.87s\n357:\ttotal: 3.83s\tremaining: 6.87s\n358:\ttotal: 3.84s\tremaining: 6.86s\n359:\ttotal: 3.85s\tremaining: 6.85s\n360:\ttotal: 3.86s\tremaining: 6.84s\n361:\ttotal: 3.87s\tremaining: 6.82s\n362:\ttotal: 3.88s\tremaining: 6.81s\n363:\ttotal: 3.89s\tremaining: 6.8s\n364:\ttotal: 3.9s\tremaining: 6.78s\n365:\ttotal: 3.91s\tremaining: 6.77s\n366:\ttotal: 3.92s\tremaining: 6.76s\n367:\ttotal: 3.93s\tremaining: 6.75s\n368:\ttotal: 3.94s\tremaining: 6.74s\n369:\ttotal: 3.95s\tremaining: 6.73s\n370:\ttotal: 3.96s\tremaining: 6.72s\n371:\ttotal: 3.98s\tremaining: 6.72s\n372:\ttotal: 3.99s\tremaining: 6.71s\n373:\ttotal: 4s\tremaining: 6.7s\n374:\ttotal: 4.02s\tremaining: 6.7s\n375:\ttotal: 4.03s\tremaining: 6.68s\n376:\ttotal: 4.03s\tremaining: 6.66s\n377:\ttotal: 4.04s\tremaining: 6.64s\n378:\ttotal: 4.05s\tremaining: 6.63s\n379:\ttotal: 4.06s\tremaining: 6.63s\n380:\ttotal: 4.08s\tremaining: 6.62s\n381:\ttotal: 4.08s\tremaining: 6.61s\n382:\ttotal: 4.1s\tremaining: 6.6s\n383:\ttotal: 4.11s\tremaining: 6.6s\n384:\ttotal: 4.13s\tremaining: 6.59s\n385:\ttotal: 4.14s\tremaining: 6.58s\n386:\ttotal: 4.15s\tremaining: 6.57s\n387:\ttotal: 4.17s\tremaining: 6.57s\n388:\ttotal: 4.18s\tremaining: 6.57s\n389:\ttotal: 4.2s\tremaining: 6.56s\n390:\ttotal: 4.22s\tremaining: 6.57s\n391:\ttotal: 4.24s\tremaining: 6.57s\n392:\ttotal: 4.26s\tremaining: 6.58s\n393:\ttotal: 4.28s\tremaining: 6.58s\n394:\ttotal: 4.29s\tremaining: 6.57s\n395:\ttotal: 4.3s\tremaining: 6.57s\n396:\ttotal: 4.32s\tremaining: 6.55s\n397:\ttotal: 4.33s\tremaining: 6.54s\n398:\ttotal: 4.34s\tremaining: 6.54s\n399:\ttotal: 4.34s\tremaining: 6.51s\n400:\ttotal: 4.35s\tremaining: 6.5s\n401:\ttotal: 4.37s\tremaining: 6.49s\n402:\ttotal: 4.38s\tremaining: 6.49s\n403:\ttotal: 4.39s\tremaining: 6.48s\n404:\ttotal: 4.4s\tremaining: 6.47s\n405:\ttotal: 4.41s\tremaining: 6.46s\n406:\ttotal: 4.43s\tremaining: 6.45s\n407:\ttotal: 4.44s\tremaining: 6.44s\n408:\ttotal: 4.45s\tremaining: 6.43s\n409:\ttotal: 4.46s\tremaining: 6.42s\n410:\ttotal: 4.47s\tremaining: 6.41s\n411:\ttotal: 4.48s\tremaining: 6.39s\n412:\ttotal: 4.49s\tremaining: 6.38s\n413:\ttotal: 4.5s\tremaining: 6.38s\n414:\ttotal: 4.52s\tremaining: 6.37s\n415:\ttotal: 4.53s\tremaining: 6.36s\n416:\ttotal: 4.54s\tremaining: 6.35s\n417:\ttotal: 4.55s\tremaining: 6.34s\n418:\ttotal: 4.57s\tremaining: 6.33s\n419:\ttotal: 4.57s\tremaining: 6.31s\n420:\ttotal: 4.58s\tremaining: 6.3s\n421:\ttotal: 4.59s\tremaining: 6.29s\n422:\ttotal: 4.61s\tremaining: 6.28s\n423:\ttotal: 4.62s\tremaining: 6.27s\n424:\ttotal: 4.63s\tremaining: 6.26s\n425:\ttotal: 4.64s\tremaining: 6.25s\n426:\ttotal: 4.65s\tremaining: 6.24s\n427:\ttotal: 4.67s\tremaining: 6.24s\n428:\ttotal: 4.68s\tremaining: 6.23s\n429:\ttotal: 4.69s\tremaining: 6.22s\n430:\ttotal: 4.7s\tremaining: 6.21s\n431:\ttotal: 4.71s\tremaining: 6.2s\n432:\ttotal: 4.73s\tremaining: 6.2s\n433:\ttotal: 4.75s\tremaining: 6.19s\n434:\ttotal: 4.76s\tremaining: 6.18s\n435:\ttotal: 4.77s\tremaining: 6.17s\n436:\ttotal: 4.78s\tremaining: 6.16s\n437:\ttotal: 4.79s\tremaining: 6.15s\n438:\ttotal: 4.81s\tremaining: 6.14s\n439:\ttotal: 4.82s\tremaining: 6.13s\n440:\ttotal: 4.83s\tremaining: 6.12s\n441:\ttotal: 4.84s\tremaining: 6.11s\n442:\ttotal: 4.85s\tremaining: 6.1s\n443:\ttotal: 4.87s\tremaining: 6.09s\n444:\ttotal: 4.88s\tremaining: 6.08s\n445:\ttotal: 4.89s\tremaining: 6.07s\n446:\ttotal: 4.9s\tremaining: 6.06s\n447:\ttotal: 4.91s\tremaining: 6.05s\n448:\ttotal: 4.93s\tremaining: 6.05s\n449:\ttotal: 4.94s\tremaining: 6.04s\n450:\ttotal: 4.95s\tremaining: 6.03s\n451:\ttotal: 4.96s\tremaining: 6.02s\n452:\ttotal: 4.98s\tremaining: 6.01s\n453:\ttotal: 4.99s\tremaining: 6s\n454:\ttotal: 5s\tremaining: 5.99s\n455:\ttotal: 5.01s\tremaining: 5.98s\n456:\ttotal: 5.02s\tremaining: 5.97s\n457:\ttotal: 5.03s\tremaining: 5.96s\n458:\ttotal: 5.05s\tremaining: 5.95s\n459:\ttotal: 5.06s\tremaining: 5.94s\n460:\ttotal: 5.07s\tremaining: 5.93s\n461:\ttotal: 5.08s\tremaining: 5.92s\n462:\ttotal: 5.09s\tremaining: 5.91s\n463:\ttotal: 5.1s\tremaining: 5.9s\n464:\ttotal: 5.12s\tremaining: 5.89s\n465:\ttotal: 5.13s\tremaining: 5.88s\n466:\ttotal: 5.14s\tremaining: 5.87s\n467:\ttotal: 5.15s\tremaining: 5.86s\n468:\ttotal: 5.17s\tremaining: 5.85s\n469:\ttotal: 5.18s\tremaining: 5.84s\n470:\ttotal: 5.19s\tremaining: 5.83s\n471:\ttotal: 5.2s\tremaining: 5.82s\n472:\ttotal: 5.21s\tremaining: 5.81s\n473:\ttotal: 5.23s\tremaining: 5.8s\n474:\ttotal: 5.24s\tremaining: 5.79s\n475:\ttotal: 5.25s\tremaining: 5.78s\n476:\ttotal: 5.26s\tremaining: 5.77s\n477:\ttotal: 5.28s\tremaining: 5.76s\n478:\ttotal: 5.29s\tremaining: 5.75s\n479:\ttotal: 5.3s\tremaining: 5.75s\n480:\ttotal: 5.32s\tremaining: 5.74s\n481:\ttotal: 5.33s\tremaining: 5.73s\n482:\ttotal: 5.34s\tremaining: 5.72s\n483:\ttotal: 5.35s\tremaining: 5.7s\n484:\ttotal: 5.36s\tremaining: 5.69s\n485:\ttotal: 5.37s\tremaining: 5.68s\n486:\ttotal: 5.38s\tremaining: 5.67s\n487:\ttotal: 5.4s\tremaining: 5.66s\n488:\ttotal: 5.41s\tremaining: 5.65s\n489:\ttotal: 5.42s\tremaining: 5.64s\n490:\ttotal: 5.43s\tremaining: 5.63s\n491:\ttotal: 5.44s\tremaining: 5.62s\n492:\ttotal: 5.45s\tremaining: 5.61s\n493:\ttotal: 5.47s\tremaining: 5.6s\n494:\ttotal: 5.48s\tremaining: 5.59s\n495:\ttotal: 5.49s\tremaining: 5.58s\n496:\ttotal: 5.5s\tremaining: 5.57s\n497:\ttotal: 5.51s\tremaining: 5.56s\n498:\ttotal: 5.53s\tremaining: 5.55s\n499:\ttotal: 5.54s\tremaining: 5.54s\n500:\ttotal: 5.55s\tremaining: 5.53s\n501:\ttotal: 5.56s\tremaining: 5.52s\n502:\ttotal: 5.58s\tremaining: 5.51s\n503:\ttotal: 5.59s\tremaining: 5.5s\n504:\ttotal: 5.6s\tremaining: 5.49s\n505:\ttotal: 5.61s\tremaining: 5.48s\n506:\ttotal: 5.63s\tremaining: 5.47s\n507:\ttotal: 5.64s\tremaining: 5.46s\n508:\ttotal: 5.65s\tremaining: 5.45s\n509:\ttotal: 5.66s\tremaining: 5.44s\n510:\ttotal: 5.67s\tremaining: 5.43s\n511:\ttotal: 5.69s\tremaining: 5.42s\n512:\ttotal: 5.7s\tremaining: 5.41s\n513:\ttotal: 5.71s\tremaining: 5.4s\n514:\ttotal: 5.72s\tremaining: 5.39s\n515:\ttotal: 5.73s\tremaining: 5.38s\n516:\ttotal: 5.75s\tremaining: 5.37s\n517:\ttotal: 5.76s\tremaining: 5.36s\n518:\ttotal: 5.77s\tremaining: 5.35s\n519:\ttotal: 5.78s\tremaining: 5.34s\n520:\ttotal: 5.79s\tremaining: 5.33s\n521:\ttotal: 5.81s\tremaining: 5.32s\n522:\ttotal: 5.82s\tremaining: 5.31s\n523:\ttotal: 5.83s\tremaining: 5.3s\n524:\ttotal: 5.84s\tremaining: 5.29s\n525:\ttotal: 5.86s\tremaining: 5.28s\n526:\ttotal: 5.87s\tremaining: 5.27s\n527:\ttotal: 5.88s\tremaining: 5.26s\n528:\ttotal: 5.89s\tremaining: 5.25s\n529:\ttotal: 5.9s\tremaining: 5.24s\n530:\ttotal: 5.92s\tremaining: 5.23s\n531:\ttotal: 5.93s\tremaining: 5.21s\n532:\ttotal: 5.94s\tremaining: 5.21s\n533:\ttotal: 5.96s\tremaining: 5.2s\n534:\ttotal: 5.97s\tremaining: 5.19s\n535:\ttotal: 5.98s\tremaining: 5.18s\n536:\ttotal: 5.99s\tremaining: 5.17s\n537:\ttotal: 6.01s\tremaining: 5.16s\n538:\ttotal: 6.02s\tremaining: 5.15s\n539:\ttotal: 6.03s\tremaining: 5.14s\n540:\ttotal: 6.04s\tremaining: 5.13s\n541:\ttotal: 6.05s\tremaining: 5.12s\n542:\ttotal: 6.07s\tremaining: 5.1s\n543:\ttotal: 6.08s\tremaining: 5.09s\n544:\ttotal: 6.09s\tremaining: 5.08s\n545:\ttotal: 6.1s\tremaining: 5.07s\n546:\ttotal: 6.11s\tremaining: 5.06s\n547:\ttotal: 6.13s\tremaining: 5.05s\n548:\ttotal: 6.14s\tremaining: 5.04s\n549:\ttotal: 6.15s\tremaining: 5.03s\n550:\ttotal: 6.16s\tremaining: 5.02s\n551:\ttotal: 6.18s\tremaining: 5.01s\n552:\ttotal: 6.19s\tremaining: 5s\n553:\ttotal: 6.2s\tremaining: 4.99s\n554:\ttotal: 6.21s\tremaining: 4.98s\n555:\ttotal: 6.22s\tremaining: 4.97s\n556:\ttotal: 6.24s\tremaining: 4.96s\n557:\ttotal: 6.25s\tremaining: 4.95s\n558:\ttotal: 6.26s\tremaining: 4.94s\n559:\ttotal: 6.27s\tremaining: 4.93s\n560:\ttotal: 6.29s\tremaining: 4.92s\n561:\ttotal: 6.3s\tremaining: 4.91s\n562:\ttotal: 6.31s\tremaining: 4.9s\n563:\ttotal: 6.32s\tremaining: 4.89s\n564:\ttotal: 6.33s\tremaining: 4.88s\n565:\ttotal: 6.35s\tremaining: 4.87s\n566:\ttotal: 6.36s\tremaining: 4.86s\n567:\ttotal: 6.37s\tremaining: 4.85s\n568:\ttotal: 6.38s\tremaining: 4.84s\n569:\ttotal: 6.4s\tremaining: 4.83s\n570:\ttotal: 6.41s\tremaining: 4.82s\n571:\ttotal: 6.42s\tremaining: 4.8s\n572:\ttotal: 6.43s\tremaining: 4.79s\n573:\ttotal: 6.45s\tremaining: 4.78s\n574:\ttotal: 6.46s\tremaining: 4.77s\n575:\ttotal: 6.47s\tremaining: 4.76s\n576:\ttotal: 6.48s\tremaining: 4.75s\n577:\ttotal: 6.49s\tremaining: 4.74s\n578:\ttotal: 6.51s\tremaining: 4.73s\n579:\ttotal: 6.52s\tremaining: 4.72s\n580:\ttotal: 6.53s\tremaining: 4.71s\n581:\ttotal: 6.54s\tremaining: 4.7s\n582:\ttotal: 6.56s\tremaining: 4.69s\n583:\ttotal: 6.57s\tremaining: 4.68s\n584:\ttotal: 6.58s\tremaining: 4.67s\n585:\ttotal: 6.59s\tremaining: 4.66s\n586:\ttotal: 6.61s\tremaining: 4.65s\n587:\ttotal: 6.62s\tremaining: 4.64s\n588:\ttotal: 6.63s\tremaining: 4.63s\n589:\ttotal: 6.65s\tremaining: 4.62s\n590:\ttotal: 6.66s\tremaining: 4.61s\n591:\ttotal: 6.67s\tremaining: 4.6s\n592:\ttotal: 6.68s\tremaining: 4.59s\n593:\ttotal: 6.7s\tremaining: 4.58s\n594:\ttotal: 6.71s\tremaining: 4.57s\n595:\ttotal: 6.72s\tremaining: 4.55s\n596:\ttotal: 6.73s\tremaining: 4.54s\n597:\ttotal: 6.74s\tremaining: 4.53s\n598:\ttotal: 6.76s\tremaining: 4.52s\n599:\ttotal: 6.77s\tremaining: 4.51s\n600:\ttotal: 6.78s\tremaining: 4.5s\n601:\ttotal: 6.8s\tremaining: 4.49s\n602:\ttotal: 6.81s\tremaining: 4.48s\n603:\ttotal: 6.82s\tremaining: 4.47s\n604:\ttotal: 6.83s\tremaining: 4.46s\n605:\ttotal: 6.84s\tremaining: 4.45s\n606:\ttotal: 6.86s\tremaining: 4.44s\n607:\ttotal: 6.87s\tremaining: 4.43s\n608:\ttotal: 6.88s\tremaining: 4.42s\n609:\ttotal: 6.89s\tremaining: 4.41s\n610:\ttotal: 6.91s\tremaining: 4.4s\n611:\ttotal: 6.92s\tremaining: 4.39s\n612:\ttotal: 6.93s\tremaining: 4.38s\n613:\ttotal: 6.95s\tremaining: 4.37s\n614:\ttotal: 6.96s\tremaining: 4.36s\n615:\ttotal: 6.97s\tremaining: 4.34s\n616:\ttotal: 6.98s\tremaining: 4.33s\n617:\ttotal: 7s\tremaining: 4.33s\n618:\ttotal: 7.01s\tremaining: 4.31s\n619:\ttotal: 7.02s\tremaining: 4.3s\n620:\ttotal: 7.03s\tremaining: 4.29s\n621:\ttotal: 7.05s\tremaining: 4.28s\n622:\ttotal: 7.06s\tremaining: 4.27s\n623:\ttotal: 7.07s\tremaining: 4.26s\n624:\ttotal: 7.08s\tremaining: 4.25s\n625:\ttotal: 7.1s\tremaining: 4.24s\n626:\ttotal: 7.11s\tremaining: 4.23s\n627:\ttotal: 7.12s\tremaining: 4.22s\n628:\ttotal: 7.13s\tremaining: 4.21s\n629:\ttotal: 7.15s\tremaining: 4.2s\n630:\ttotal: 7.16s\tremaining: 4.19s\n631:\ttotal: 7.17s\tremaining: 4.18s\n632:\ttotal: 7.18s\tremaining: 4.17s\n633:\ttotal: 7.2s\tremaining: 4.16s\n634:\ttotal: 7.21s\tremaining: 4.14s\n635:\ttotal: 7.22s\tremaining: 4.13s\n636:\ttotal: 7.24s\tremaining: 4.12s\n637:\ttotal: 7.25s\tremaining: 4.11s\n638:\ttotal: 7.26s\tremaining: 4.1s\n639:\ttotal: 7.27s\tremaining: 4.09s\n640:\ttotal: 7.28s\tremaining: 4.08s\n641:\ttotal: 7.3s\tremaining: 4.07s\n642:\ttotal: 7.31s\tremaining: 4.06s\n643:\ttotal: 7.32s\tremaining: 4.04s\n644:\ttotal: 7.33s\tremaining: 4.04s\n645:\ttotal: 7.34s\tremaining: 4.03s\n646:\ttotal: 7.36s\tremaining: 4.01s\n647:\ttotal: 7.37s\tremaining: 4s\n648:\ttotal: 7.38s\tremaining: 3.99s\n649:\ttotal: 7.4s\tremaining: 3.98s\n650:\ttotal: 7.41s\tremaining: 3.97s\n651:\ttotal: 7.42s\tremaining: 3.96s\n652:\ttotal: 7.44s\tremaining: 3.95s\n653:\ttotal: 7.45s\tremaining: 3.94s\n654:\ttotal: 7.46s\tremaining: 3.93s\n655:\ttotal: 7.47s\tremaining: 3.92s\n656:\ttotal: 7.48s\tremaining: 3.91s\n657:\ttotal: 7.5s\tremaining: 3.9s\n658:\ttotal: 7.51s\tremaining: 3.89s\n659:\ttotal: 7.52s\tremaining: 3.88s\n660:\ttotal: 7.53s\tremaining: 3.86s\n661:\ttotal: 7.54s\tremaining: 3.85s\n662:\ttotal: 7.56s\tremaining: 3.84s\n663:\ttotal: 7.57s\tremaining: 3.83s\n664:\ttotal: 7.58s\tremaining: 3.82s\n665:\ttotal: 7.59s\tremaining: 3.81s\n666:\ttotal: 7.61s\tremaining: 3.8s\n667:\ttotal: 7.62s\tremaining: 3.79s\n668:\ttotal: 7.63s\tremaining: 3.78s\n669:\ttotal: 7.64s\tremaining: 3.77s\n670:\ttotal: 7.66s\tremaining: 3.75s\n671:\ttotal: 7.67s\tremaining: 3.74s\n672:\ttotal: 7.68s\tremaining: 3.73s\n673:\ttotal: 7.7s\tremaining: 3.72s\n674:\ttotal: 7.71s\tremaining: 3.71s\n675:\ttotal: 7.72s\tremaining: 3.7s\n676:\ttotal: 7.73s\tremaining: 3.69s\n677:\ttotal: 7.74s\tremaining: 3.68s\n678:\ttotal: 7.76s\tremaining: 3.67s\n679:\ttotal: 7.77s\tremaining: 3.66s\n680:\ttotal: 7.78s\tremaining: 3.65s\n681:\ttotal: 7.79s\tremaining: 3.63s\n682:\ttotal: 7.8s\tremaining: 3.62s\n683:\ttotal: 7.82s\tremaining: 3.61s\n684:\ttotal: 7.83s\tremaining: 3.6s\n685:\ttotal: 7.84s\tremaining: 3.59s\n686:\ttotal: 7.86s\tremaining: 3.58s\n687:\ttotal: 7.87s\tremaining: 3.57s\n688:\ttotal: 7.88s\tremaining: 3.56s\n689:\ttotal: 7.89s\tremaining: 3.54s\n690:\ttotal: 7.9s\tremaining: 3.53s\n691:\ttotal: 7.91s\tremaining: 3.52s\n692:\ttotal: 7.93s\tremaining: 3.51s\n693:\ttotal: 7.94s\tremaining: 3.5s\n694:\ttotal: 7.95s\tremaining: 3.49s\n695:\ttotal: 7.96s\tremaining: 3.48s\n696:\ttotal: 7.98s\tremaining: 3.47s\n697:\ttotal: 7.99s\tremaining: 3.46s\n698:\ttotal: 8s\tremaining: 3.45s\n699:\ttotal: 8.02s\tremaining: 3.44s\n700:\ttotal: 8.03s\tremaining: 3.42s\n701:\ttotal: 8.04s\tremaining: 3.41s\n702:\ttotal: 8.05s\tremaining: 3.4s\n703:\ttotal: 8.07s\tremaining: 3.39s\n704:\ttotal: 8.08s\tremaining: 3.38s\n705:\ttotal: 8.09s\tremaining: 3.37s\n706:\ttotal: 8.1s\tremaining: 3.36s\n707:\ttotal: 8.11s\tremaining: 3.35s\n708:\ttotal: 8.13s\tremaining: 3.33s\n709:\ttotal: 8.14s\tremaining: 3.32s\n710:\ttotal: 8.15s\tremaining: 3.31s\n711:\ttotal: 8.16s\tremaining: 3.3s\n712:\ttotal: 8.18s\tremaining: 3.29s\n713:\ttotal: 8.19s\tremaining: 3.28s\n714:\ttotal: 8.2s\tremaining: 3.27s\n715:\ttotal: 8.21s\tremaining: 3.26s\n716:\ttotal: 8.22s\tremaining: 3.25s\n717:\ttotal: 8.24s\tremaining: 3.23s\n718:\ttotal: 8.25s\tremaining: 3.22s\n719:\ttotal: 8.26s\tremaining: 3.21s\n720:\ttotal: 8.27s\tremaining: 3.2s\n721:\ttotal: 8.29s\tremaining: 3.19s\n722:\ttotal: 8.3s\tremaining: 3.18s\n723:\ttotal: 8.31s\tremaining: 3.17s\n724:\ttotal: 8.32s\tremaining: 3.16s\n725:\ttotal: 8.33s\tremaining: 3.15s\n726:\ttotal: 8.35s\tremaining: 3.13s\n727:\ttotal: 8.36s\tremaining: 3.12s\n728:\ttotal: 8.37s\tremaining: 3.11s\n729:\ttotal: 8.38s\tremaining: 3.1s\n730:\ttotal: 8.39s\tremaining: 3.09s\n731:\ttotal: 8.41s\tremaining: 3.08s\n732:\ttotal: 8.42s\tremaining: 3.07s\n733:\ttotal: 8.43s\tremaining: 3.06s\n734:\ttotal: 8.44s\tremaining: 3.04s\n735:\ttotal: 8.46s\tremaining: 3.03s\n736:\ttotal: 8.47s\tremaining: 3.02s\n737:\ttotal: 8.48s\tremaining: 3.01s\n738:\ttotal: 8.49s\tremaining: 3s\n739:\ttotal: 8.5s\tremaining: 2.99s\n740:\ttotal: 8.52s\tremaining: 2.98s\n741:\ttotal: 8.53s\tremaining: 2.96s\n742:\ttotal: 8.54s\tremaining: 2.95s\n743:\ttotal: 8.55s\tremaining: 2.94s\n744:\ttotal: 8.56s\tremaining: 2.93s\n745:\ttotal: 8.57s\tremaining: 2.92s\n746:\ttotal: 8.58s\tremaining: 2.91s\n747:\ttotal: 8.6s\tremaining: 2.9s\n748:\ttotal: 8.61s\tremaining: 2.88s\n749:\ttotal: 8.62s\tremaining: 2.87s\n750:\ttotal: 8.63s\tremaining: 2.86s\n751:\ttotal: 8.65s\tremaining: 2.85s\n752:\ttotal: 8.66s\tremaining: 2.84s\n753:\ttotal: 8.67s\tremaining: 2.83s\n754:\ttotal: 8.69s\tremaining: 2.82s\n755:\ttotal: 8.7s\tremaining: 2.81s\n756:\ttotal: 8.71s\tremaining: 2.79s\n757:\ttotal: 8.72s\tremaining: 2.78s\n758:\ttotal: 8.73s\tremaining: 2.77s\n759:\ttotal: 8.74s\tremaining: 2.76s\n760:\ttotal: 8.76s\tremaining: 2.75s\n761:\ttotal: 8.77s\tremaining: 2.74s\n762:\ttotal: 8.79s\tremaining: 2.73s\n763:\ttotal: 8.8s\tremaining: 2.72s\n764:\ttotal: 8.81s\tremaining: 2.71s\n765:\ttotal: 8.82s\tremaining: 2.69s\n766:\ttotal: 8.83s\tremaining: 2.68s\n767:\ttotal: 8.85s\tremaining: 2.67s\n768:\ttotal: 8.86s\tremaining: 2.66s\n769:\ttotal: 8.87s\tremaining: 2.65s\n770:\ttotal: 8.88s\tremaining: 2.64s\n771:\ttotal: 8.89s\tremaining: 2.63s\n772:\ttotal: 8.91s\tremaining: 2.62s\n773:\ttotal: 8.92s\tremaining: 2.6s\n774:\ttotal: 8.93s\tremaining: 2.59s\n775:\ttotal: 8.95s\tremaining: 2.58s\n776:\ttotal: 8.96s\tremaining: 2.57s\n777:\ttotal: 8.97s\tremaining: 2.56s\n778:\ttotal: 8.98s\tremaining: 2.55s\n779:\ttotal: 9s\tremaining: 2.54s\n780:\ttotal: 9.01s\tremaining: 2.53s\n781:\ttotal: 9.02s\tremaining: 2.51s\n782:\ttotal: 9.03s\tremaining: 2.5s\n783:\ttotal: 9.05s\tremaining: 2.49s\n784:\ttotal: 9.06s\tremaining: 2.48s\n785:\ttotal: 9.07s\tremaining: 2.47s\n786:\ttotal: 9.09s\tremaining: 2.46s\n787:\ttotal: 9.1s\tremaining: 2.45s\n788:\ttotal: 9.12s\tremaining: 2.44s\n789:\ttotal: 9.13s\tremaining: 2.43s\n790:\ttotal: 9.14s\tremaining: 2.42s\n791:\ttotal: 9.15s\tremaining: 2.4s\n792:\ttotal: 9.17s\tremaining: 2.39s\n793:\ttotal: 9.18s\tremaining: 2.38s\n794:\ttotal: 9.19s\tremaining: 2.37s\n795:\ttotal: 9.2s\tremaining: 2.36s\n796:\ttotal: 9.21s\tremaining: 2.35s\n797:\ttotal: 9.23s\tremaining: 2.33s\n798:\ttotal: 9.24s\tremaining: 2.32s\n799:\ttotal: 9.25s\tremaining: 2.31s\n800:\ttotal: 9.26s\tremaining: 2.3s\n801:\ttotal: 9.28s\tremaining: 2.29s\n802:\ttotal: 9.29s\tremaining: 2.28s\n803:\ttotal: 9.3s\tremaining: 2.27s\n804:\ttotal: 9.32s\tremaining: 2.26s\n805:\ttotal: 9.33s\tremaining: 2.25s\n806:\ttotal: 9.34s\tremaining: 2.23s\n807:\ttotal: 9.35s\tremaining: 2.22s\n808:\ttotal: 9.36s\tremaining: 2.21s\n809:\ttotal: 9.38s\tremaining: 2.2s\n810:\ttotal: 9.39s\tremaining: 2.19s\n811:\ttotal: 9.4s\tremaining: 2.18s\n812:\ttotal: 9.41s\tremaining: 2.17s\n813:\ttotal: 9.43s\tremaining: 2.15s\n814:\ttotal: 9.44s\tremaining: 2.14s\n815:\ttotal: 9.45s\tremaining: 2.13s\n816:\ttotal: 9.46s\tremaining: 2.12s\n817:\ttotal: 9.47s\tremaining: 2.11s\n818:\ttotal: 9.49s\tremaining: 2.1s\n819:\ttotal: 9.5s\tremaining: 2.08s\n820:\ttotal: 9.51s\tremaining: 2.07s\n821:\ttotal: 9.52s\tremaining: 2.06s\n822:\ttotal: 9.54s\tremaining: 2.05s\n823:\ttotal: 9.55s\tremaining: 2.04s\n824:\ttotal: 9.56s\tremaining: 2.03s\n825:\ttotal: 9.57s\tremaining: 2.02s\n826:\ttotal: 9.59s\tremaining: 2s\n827:\ttotal: 9.6s\tremaining: 1.99s\n828:\ttotal: 9.61s\tremaining: 1.98s\n829:\ttotal: 9.62s\tremaining: 1.97s\n830:\ttotal: 9.63s\tremaining: 1.96s\n831:\ttotal: 9.64s\tremaining: 1.95s\n832:\ttotal: 9.65s\tremaining: 1.94s\n833:\ttotal: 9.67s\tremaining: 1.92s\n834:\ttotal: 9.68s\tremaining: 1.91s\n835:\ttotal: 9.69s\tremaining: 1.9s\n836:\ttotal: 9.71s\tremaining: 1.89s\n837:\ttotal: 9.72s\tremaining: 1.88s\n838:\ttotal: 9.73s\tremaining: 1.87s\n839:\ttotal: 9.74s\tremaining: 1.85s\n840:\ttotal: 9.75s\tremaining: 1.84s\n841:\ttotal: 9.77s\tremaining: 1.83s\n842:\ttotal: 9.78s\tremaining: 1.82s\n843:\ttotal: 9.79s\tremaining: 1.81s\n844:\ttotal: 9.8s\tremaining: 1.8s\n845:\ttotal: 9.81s\tremaining: 1.79s\n846:\ttotal: 9.82s\tremaining: 1.77s\n847:\ttotal: 9.84s\tremaining: 1.76s\n848:\ttotal: 9.85s\tremaining: 1.75s\n849:\ttotal: 9.86s\tremaining: 1.74s\n850:\ttotal: 9.88s\tremaining: 1.73s\n851:\ttotal: 9.89s\tremaining: 1.72s\n852:\ttotal: 9.9s\tremaining: 1.71s\n853:\ttotal: 9.91s\tremaining: 1.69s\n854:\ttotal: 9.92s\tremaining: 1.68s\n855:\ttotal: 9.93s\tremaining: 1.67s\n856:\ttotal: 9.95s\tremaining: 1.66s\n857:\ttotal: 9.96s\tremaining: 1.65s\n858:\ttotal: 9.97s\tremaining: 1.64s\n859:\ttotal: 9.98s\tremaining: 1.62s\n860:\ttotal: 9.99s\tremaining: 1.61s\n861:\ttotal: 10s\tremaining: 1.6s\n862:\ttotal: 10s\tremaining: 1.59s\n863:\ttotal: 10s\tremaining: 1.58s\n864:\ttotal: 10s\tremaining: 1.57s\n865:\ttotal: 10.1s\tremaining: 1.55s\n866:\ttotal: 10.1s\tremaining: 1.54s\n867:\ttotal: 10.1s\tremaining: 1.53s\n868:\ttotal: 10.1s\tremaining: 1.52s\n869:\ttotal: 10.1s\tremaining: 1.51s\n870:\ttotal: 10.1s\tremaining: 1.5s\n871:\ttotal: 10.1s\tremaining: 1.49s\n872:\ttotal: 10.1s\tremaining: 1.48s\n873:\ttotal: 10.2s\tremaining: 1.46s\n874:\ttotal: 10.2s\tremaining: 1.45s\n875:\ttotal: 10.2s\tremaining: 1.44s\n876:\ttotal: 10.2s\tremaining: 1.43s\n877:\ttotal: 10.2s\tremaining: 1.42s\n878:\ttotal: 10.2s\tremaining: 1.41s\n879:\ttotal: 10.2s\tremaining: 1.4s\n880:\ttotal: 10.2s\tremaining: 1.38s\n881:\ttotal: 10.3s\tremaining: 1.37s\n882:\ttotal: 10.3s\tremaining: 1.36s\n883:\ttotal: 10.3s\tremaining: 1.35s\n884:\ttotal: 10.3s\tremaining: 1.34s\n885:\ttotal: 10.3s\tremaining: 1.32s\n886:\ttotal: 10.3s\tremaining: 1.31s\n887:\ttotal: 10.3s\tremaining: 1.3s\n888:\ttotal: 10.3s\tremaining: 1.29s\n889:\ttotal: 10.4s\tremaining: 1.28s\n890:\ttotal: 10.4s\tremaining: 1.27s\n891:\ttotal: 10.4s\tremaining: 1.26s\n892:\ttotal: 10.4s\tremaining: 1.24s\n893:\ttotal: 10.4s\tremaining: 1.23s\n894:\ttotal: 10.4s\tremaining: 1.22s\n895:\ttotal: 10.4s\tremaining: 1.21s\n896:\ttotal: 10.4s\tremaining: 1.2s\n897:\ttotal: 10.5s\tremaining: 1.19s\n898:\ttotal: 10.5s\tremaining: 1.18s\n899:\ttotal: 10.5s\tremaining: 1.16s\n900:\ttotal: 10.5s\tremaining: 1.15s\n901:\ttotal: 10.5s\tremaining: 1.14s\n902:\ttotal: 10.5s\tremaining: 1.13s\n903:\ttotal: 10.5s\tremaining: 1.12s\n904:\ttotal: 10.5s\tremaining: 1.11s\n905:\ttotal: 10.6s\tremaining: 1.09s\n906:\ttotal: 10.6s\tremaining: 1.08s\n907:\ttotal: 10.6s\tremaining: 1.07s\n908:\ttotal: 10.6s\tremaining: 1.06s\n909:\ttotal: 10.6s\tremaining: 1.05s\n910:\ttotal: 10.6s\tremaining: 1.04s\n911:\ttotal: 10.6s\tremaining: 1.02s\n912:\ttotal: 10.6s\tremaining: 1.01s\n913:\ttotal: 10.6s\tremaining: 1s\n914:\ttotal: 10.7s\tremaining: 990ms\n915:\ttotal: 10.7s\tremaining: 979ms\n916:\ttotal: 10.7s\tremaining: 967ms\n917:\ttotal: 10.7s\tremaining: 955ms\n918:\ttotal: 10.7s\tremaining: 944ms\n919:\ttotal: 10.7s\tremaining: 932ms\n920:\ttotal: 10.7s\tremaining: 921ms\n921:\ttotal: 10.7s\tremaining: 909ms\n922:\ttotal: 10.8s\tremaining: 898ms\n923:\ttotal: 10.8s\tremaining: 886ms\n924:\ttotal: 10.8s\tremaining: 874ms\n925:\ttotal: 10.8s\tremaining: 863ms\n926:\ttotal: 10.8s\tremaining: 851ms\n927:\ttotal: 10.8s\tremaining: 839ms\n928:\ttotal: 10.8s\tremaining: 828ms\n929:\ttotal: 10.8s\tremaining: 816ms\n930:\ttotal: 10.9s\tremaining: 804ms\n931:\ttotal: 10.9s\tremaining: 793ms\n932:\ttotal: 10.9s\tremaining: 781ms\n933:\ttotal: 10.9s\tremaining: 769ms\n934:\ttotal: 10.9s\tremaining: 758ms\n935:\ttotal: 10.9s\tremaining: 746ms\n936:\ttotal: 10.9s\tremaining: 735ms\n937:\ttotal: 10.9s\tremaining: 723ms\n938:\ttotal: 11s\tremaining: 712ms\n939:\ttotal: 11s\tremaining: 700ms\n940:\ttotal: 11s\tremaining: 688ms\n941:\ttotal: 11s\tremaining: 676ms\n942:\ttotal: 11s\tremaining: 665ms\n943:\ttotal: 11s\tremaining: 653ms\n944:\ttotal: 11s\tremaining: 642ms\n945:\ttotal: 11s\tremaining: 630ms\n946:\ttotal: 11s\tremaining: 618ms\n947:\ttotal: 11.1s\tremaining: 607ms\n948:\ttotal: 11.1s\tremaining: 595ms\n949:\ttotal: 11.1s\tremaining: 583ms\n950:\ttotal: 11.1s\tremaining: 572ms\n951:\ttotal: 11.1s\tremaining: 560ms\n952:\ttotal: 11.1s\tremaining: 548ms\n953:\ttotal: 11.1s\tremaining: 537ms\n954:\ttotal: 11.1s\tremaining: 525ms\n955:\ttotal: 11.2s\tremaining: 513ms\n956:\ttotal: 11.2s\tremaining: 502ms\n957:\ttotal: 11.2s\tremaining: 490ms\n958:\ttotal: 11.2s\tremaining: 478ms\n959:\ttotal: 11.2s\tremaining: 467ms\n960:\ttotal: 11.2s\tremaining: 455ms\n961:\ttotal: 11.2s\tremaining: 444ms\n962:\ttotal: 11.2s\tremaining: 432ms\n963:\ttotal: 11.3s\tremaining: 420ms\n964:\ttotal: 11.3s\tremaining: 409ms\n965:\ttotal: 11.3s\tremaining: 397ms\n966:\ttotal: 11.3s\tremaining: 385ms\n967:\ttotal: 11.3s\tremaining: 374ms\n968:\ttotal: 11.3s\tremaining: 362ms\n969:\ttotal: 11.3s\tremaining: 350ms\n970:\ttotal: 11.3s\tremaining: 339ms\n971:\ttotal: 11.4s\tremaining: 327ms\n972:\ttotal: 11.4s\tremaining: 315ms\n973:\ttotal: 11.4s\tremaining: 304ms\n974:\ttotal: 11.4s\tremaining: 292ms\n975:\ttotal: 11.4s\tremaining: 280ms\n976:\ttotal: 11.4s\tremaining: 269ms\n977:\ttotal: 11.4s\tremaining: 257ms\n978:\ttotal: 11.4s\tremaining: 245ms\n979:\ttotal: 11.4s\tremaining: 234ms\n980:\ttotal: 11.5s\tremaining: 222ms\n981:\ttotal: 11.5s\tremaining: 210ms\n982:\ttotal: 11.5s\tremaining: 199ms\n983:\ttotal: 11.5s\tremaining: 187ms\n984:\ttotal: 11.5s\tremaining: 175ms\n985:\ttotal: 11.5s\tremaining: 164ms\n986:\ttotal: 11.5s\tremaining: 152ms\n987:\ttotal: 11.6s\tremaining: 140ms\n988:\ttotal: 11.6s\tremaining: 129ms\n989:\ttotal: 11.6s\tremaining: 117ms\n990:\ttotal: 11.6s\tremaining: 105ms\n991:\ttotal: 11.6s\tremaining: 93.6ms\n992:\ttotal: 11.6s\tremaining: 81.9ms\n993:\ttotal: 11.6s\tremaining: 70.2ms\n994:\ttotal: 11.6s\tremaining: 58.5ms\n995:\ttotal: 11.7s\tremaining: 46.8ms\n996:\ttotal: 11.7s\tremaining: 35.1ms\n997:\ttotal: 11.7s\tremaining: 23.4ms\n998:\ttotal: 11.7s\tremaining: 11.7ms\n999:\ttotal: 11.7s\tremaining: 0us\n",
          "output_type": "stream"
        },
        {
          "execution_count": 31,
          "output_type": "execute_result",
          "data": {
            "text/plain": "<catboost.core.CatBoostClassifier at 0x7f2a0bd66290>"
          },
          "metadata": {}
        }
      ]
    },
    {
      "cell_type": "code",
      "source": [
        "#найдем лучший скор:\n",
        "train_score = boosting_model.score(X_train, Y_train)\n",
        "train_score"
      ],
      "metadata": {
        "colab": {
          "base_uri": "https://localhost:8080/"
        },
        "id": "KiE3DiEJPi22",
        "outputId": "7caf2170-3fb2-4ebc-a708-3e7b8e9f8c52",
        "execution": {
          "iopub.status.busy": "2022-10-23T17:39:23.015884Z",
          "iopub.execute_input": "2022-10-23T17:39:23.016223Z",
          "iopub.status.idle": "2022-10-23T17:39:23.051197Z",
          "shell.execute_reply.started": "2022-10-23T17:39:23.016191Z",
          "shell.execute_reply": "2022-10-23T17:39:23.050033Z"
        },
        "trusted": true
      },
      "execution_count": null,
      "outputs": [
        {
          "execution_count": 32,
          "output_type": "execute_result",
          "data": {
            "text/plain": "0.840473372781065"
          },
          "metadata": {}
        }
      ]
    },
    {
      "cell_type": "code",
      "source": [
        "test_score = boosting_model.score(X_test, Y_test)\n",
        "test_score"
      ],
      "metadata": {
        "colab": {
          "base_uri": "https://localhost:8080/"
        },
        "id": "BK3TB2FlEuaZ",
        "outputId": "0e5b8f54-8cb3-4c2b-97fc-ea51b0721a8c",
        "execution": {
          "iopub.status.busy": "2022-10-23T17:39:23.053113Z",
          "iopub.execute_input": "2022-10-23T17:39:23.053629Z",
          "iopub.status.idle": "2022-10-23T17:39:23.071360Z",
          "shell.execute_reply.started": "2022-10-23T17:39:23.053582Z",
          "shell.execute_reply": "2022-10-23T17:39:23.069845Z"
        },
        "trusted": true
      },
      "execution_count": null,
      "outputs": [
        {
          "execution_count": 33,
          "output_type": "execute_result",
          "data": {
            "text/plain": "0.7795648060548723"
          },
          "metadata": {}
        }
      ]
    },
    {
      "cell_type": "markdown",
      "source": [
        "Теперь попробуем найти оптимальные параметры:"
      ],
      "metadata": {
        "id": "U12n7dMlQhwr"
      }
    },
    {
      "cell_type": "code",
      "source": [
        "LRs = (0.1, 0.05, 0.04, 0.03, 0.02, 0.01, 0.001)"
      ],
      "metadata": {
        "id": "JESbOB1wQ-Nx",
        "execution": {
          "iopub.status.busy": "2022-10-23T17:39:23.073796Z",
          "iopub.execute_input": "2022-10-23T17:39:23.074157Z",
          "iopub.status.idle": "2022-10-23T17:39:23.079958Z",
          "shell.execute_reply.started": "2022-10-23T17:39:23.074125Z",
          "shell.execute_reply": "2022-10-23T17:39:23.078790Z"
        },
        "trusted": true
      },
      "execution_count": null,
      "outputs": []
    },
    {
      "cell_type": "code",
      "source": [
        "grid = {'learning_rate': [0.1, 0.05, 0.04, 0.03, 0.02, 0.01, 0.001],\n",
        "        'n_estimators' : np.linspace(100, 1000, 10)}"
      ],
      "metadata": {
        "id": "8gumtIaGxFEZ",
        "execution": {
          "iopub.status.busy": "2022-10-23T17:39:23.081808Z",
          "iopub.execute_input": "2022-10-23T17:39:23.082486Z",
          "iopub.status.idle": "2022-10-23T17:39:23.092554Z",
          "shell.execute_reply.started": "2022-10-23T17:39:23.082445Z",
          "shell.execute_reply": "2022-10-23T17:39:23.091339Z"
        },
        "trusted": true
      },
      "execution_count": null,
      "outputs": []
    },
    {
      "cell_type": "code",
      "source": [
        "bassboosting_model = catboost.CatBoostClassifier(silent=True,\n",
        "                                             cat_features=cat_indices,\n",
        "                                             eval_metric='AUC:hints=skip_train~false',\n",
        "                                             random_seed = 42,\n",
        "                                             metric_period=1000)\n",
        "params = bassboosting_model.grid_search(grid, X_train,\n",
        "                               Y_train, cv=3, plot=True, refit=True)"
      ],
      "metadata": {
        "colab": {
          "base_uri": "https://localhost:8080/",
          "height": 1000,
          "referenced_widgets": [
            "083f82960985406888ebab0633077340",
            "7576422690634a4fb7ba9ae151e08f30"
          ]
        },
        "id": "ass79wv2QJLZ",
        "outputId": "b6b5e9fc-234a-4b96-ccbf-00766629da7b",
        "execution": {
          "iopub.status.busy": "2022-10-23T17:39:23.094929Z",
          "iopub.execute_input": "2022-10-23T17:39:23.095527Z",
          "iopub.status.idle": "2022-10-23T17:47:33.990645Z",
          "shell.execute_reply.started": "2022-10-23T17:39:23.095478Z",
          "shell.execute_reply": "2022-10-23T17:47:33.989534Z"
        },
        "collapsed": true,
        "jupyter": {
          "outputs_hidden": true
        },
        "trusted": true
      },
      "execution_count": null,
      "outputs": [
        {
          "output_type": "display_data",
          "data": {
            "text/plain": "MetricVisualizer(layout=Layout(align_self='stretch', height='500px'))",
            "application/vnd.jupyter.widget-view+json": {
              "version_major": 2,
              "version_minor": 0,
              "model_id": "7576422690634a4fb7ba9ae151e08f30"
            }
          },
          "metadata": {}
        },
        {
          "name": "stdout",
          "text": "\nbestTest = 0.8381570623\nbestIteration = 99\n\n0:\tloss: 0.8381571\tbest: 0.8381571 (0)\ttotal: 770ms\tremaining: 53.1s\n\nbestTest = 0.8377365137\nbestIteration = 99\n\n1:\tloss: 0.8377365\tbest: 0.8381571 (0)\ttotal: 1.39s\tremaining: 47.3s\n\nbestTest = 0.8350946055\nbestIteration = 99\n\n2:\tloss: 0.8350946\tbest: 0.8381571 (0)\ttotal: 1.95s\tremaining: 43.6s\n\nbestTest = 0.831985421\nbestIteration = 99\n\n3:\tloss: 0.8319854\tbest: 0.8381571 (0)\ttotal: 2.65s\tremaining: 43.7s\n\nbestTest = 0.8299114332\nbestIteration = 99\n\n4:\tloss: 0.8299114\tbest: 0.8381571 (0)\ttotal: 3.44s\tremaining: 44.7s\n\nbestTest = 0.8191101622\nbestIteration = 99\n\n5:\tloss: 0.8191102\tbest: 0.8381571 (0)\ttotal: 4.15s\tremaining: 44.3s\n\nbestTest = 0.788730015\nbestIteration = 99\n\n6:\tloss: 0.7887300\tbest: 0.8381571 (0)\ttotal: 4.79s\tremaining: 43.1s\n\nbestTest = 0.8326432022\nbestIteration = 199\n\n7:\tloss: 0.8326432\tbest: 0.8381571 (0)\ttotal: 7.14s\tremaining: 55.4s\n\nbestTest = 0.8344440131\nbestIteration = 199\n\n8:\tloss: 0.8344440\tbest: 0.8381571 (0)\ttotal: 9.66s\tremaining: 1m 5s\n\nbestTest = 0.8371614044\nbestIteration = 199\n\n9:\tloss: 0.8371614\tbest: 0.8381571 (0)\ttotal: 12.1s\tremaining: 1m 12s\n\nbestTest = 0.8366617782\nbestIteration = 199\n\n10:\tloss: 0.8366618\tbest: 0.8381571 (0)\ttotal: 14.6s\tremaining: 1m 18s\n\nbestTest = 0.8388076547\nbestIteration = 199\n\n11:\tloss: 0.8388077\tbest: 0.8388077 (11)\ttotal: 16.8s\tremaining: 1m 21s\n\nbestTest = 0.8340522199\nbestIteration = 199\n\n12:\tloss: 0.8340522\tbest: 0.8388077 (11)\ttotal: 19.2s\tremaining: 1m 23s\n\nbestTest = 0.8304901369\nbestIteration = 199\n\n13:\tloss: 0.8304901\tbest: 0.8388077 (11)\ttotal: 21.2s\tremaining: 1m 24s\n\nbestTest = 0.8284880377\nbestIteration = 299\n\n14:\tloss: 0.8284880\tbest: 0.8388077 (11)\ttotal: 25.5s\tremaining: 1m 33s\n\nbestTest = 0.8330601564\nbestIteration = 299\n\n15:\tloss: 0.8330602\tbest: 0.8388077 (11)\ttotal: 28.9s\tremaining: 1m 37s\n\nbestTest = 0.838577611\nbestIteration = 299\n\n16:\tloss: 0.8385776\tbest: 0.8388077 (11)\ttotal: 32.3s\tremaining: 1m 40s\n\nbestTest = 0.8371002991\nbestIteration = 299\n\n17:\tloss: 0.8371003\tbest: 0.8388077 (11)\ttotal: 35.4s\tremaining: 1m 42s\n\nbestTest = 0.8402310501\nbestIteration = 299\n\n18:\tloss: 0.8402311\tbest: 0.8402311 (18)\ttotal: 38.8s\tremaining: 1m 44s\n\nbestTest = 0.8360651024\nbestIteration = 299\n\n19:\tloss: 0.8360651\tbest: 0.8402311 (18)\ttotal: 42.2s\tremaining: 1m 45s\n\nbestTest = 0.8296166897\nbestIteration = 299\n\n20:\tloss: 0.8296167\tbest: 0.8402311 (18)\ttotal: 45.6s\tremaining: 1m 46s\n\nbestTest = 0.8247354497\nbestIteration = 399\n\n21:\tloss: 0.8247354\tbest: 0.8402311 (18)\ttotal: 50.7s\tremaining: 1m 50s\n\nbestTest = 0.8291422245\nbestIteration = 399\n\n22:\tloss: 0.8291422\tbest: 0.8402311 (18)\ttotal: 55.5s\tremaining: 1m 53s\n\nbestTest = 0.8363670347\nbestIteration = 399\n\n23:\tloss: 0.8363670\tbest: 0.8402311 (18)\ttotal: 1m\tremaining: 1m 56s\n\nbestTest = 0.8380096906\nbestIteration = 399\n\n24:\tloss: 0.8380097\tbest: 0.8402311 (18)\ttotal: 1m 5s\tremaining: 1m 57s\n\nbestTest = 0.8404395273\nbestIteration = 399\n\n25:\tloss: 0.8404395\tbest: 0.8404395 (25)\ttotal: 1m 9s\tremaining: 1m 57s\n\nbestTest = 0.8372117265\nbestIteration = 399\n\n26:\tloss: 0.8372117\tbest: 0.8404395 (25)\ttotal: 1m 13s\tremaining: 1m 57s\n\nbestTest = 0.8285671153\nbestIteration = 399\n\n27:\tloss: 0.8285671\tbest: 0.8404395 (25)\ttotal: 1m 18s\tremaining: 1m 57s\n\nbestTest = 0.8216226708\nbestIteration = 499\n\n28:\tloss: 0.8216227\tbest: 0.8404395 (25)\ttotal: 1m 24s\tremaining: 1m 59s\n\nbestTest = 0.8261372786\nbestIteration = 499\n\n29:\tloss: 0.8261373\tbest: 0.8404395 (25)\ttotal: 1m 30s\tremaining: 2m 1s\n\nbestTest = 0.8362807683\nbestIteration = 499\n\n30:\tloss: 0.8362808\tbest: 0.8404395 (25)\ttotal: 1m 37s\tremaining: 2m 2s\n\nbestTest = 0.837049977\nbestIteration = 499\n\n31:\tloss: 0.8370500\tbest: 0.8404395 (25)\ttotal: 1m 42s\tremaining: 2m 2s\n\nbestTest = 0.8397601794\nbestIteration = 499\n\n32:\tloss: 0.8397602\tbest: 0.8404395 (25)\ttotal: 1m 49s\tremaining: 2m 2s\n\nbestTest = 0.8379162353\nbestIteration = 499\n\n33:\tloss: 0.8379162\tbest: 0.8404395 (25)\ttotal: 1m 54s\tremaining: 2m 1s\n\nbestTest = 0.8274097078\nbestIteration = 499\n\n34:\tloss: 0.8274097\tbest: 0.8404395 (25)\ttotal: 2m\tremaining: 2m\n\nbestTest = 0.8208390844\nbestIteration = 599\n\n35:\tloss: 0.8208391\tbest: 0.8404395 (25)\ttotal: 2m 7s\tremaining: 2m\n\nbestTest = 0.8245197838\nbestIteration = 599\n\n36:\tloss: 0.8245198\tbest: 0.8404395 (25)\ttotal: 2m 15s\tremaining: 2m\n\nbestTest = 0.8342966414\nbestIteration = 599\n\n37:\tloss: 0.8342966\tbest: 0.8404395 (25)\ttotal: 2m 23s\tremaining: 2m\n\nbestTest = 0.8371721877\nbestIteration = 599\n\n38:\tloss: 0.8371722\tbest: 0.8404395 (25)\ttotal: 2m 30s\tremaining: 1m 59s\n\nbestTest = 0.8406012767\nbestIteration = 599\n\n39:\tloss: 0.8406013\tbest: 0.8406013 (39)\ttotal: 2m 37s\tremaining: 1m 58s\n\nbestTest = 0.8383188118\nbestIteration = 599\n\n40:\tloss: 0.8383188\tbest: 0.8406013 (39)\ttotal: 2m 44s\tremaining: 1m 56s\n\nbestTest = 0.8270898033\nbestIteration = 599\n\n41:\tloss: 0.8270898\tbest: 0.8406013 (39)\ttotal: 2m 50s\tremaining: 1m 53s\n\nbestTest = 0.8188980906\nbestIteration = 699\n\n42:\tloss: 0.8188981\tbest: 0.8406013 (39)\ttotal: 2m 59s\tremaining: 1m 52s\n\nbestTest = 0.8241890959\nbestIteration = 699\n\n43:\tloss: 0.8241891\tbest: 0.8406013 (39)\ttotal: 3m 8s\tremaining: 1m 51s\n\nbestTest = 0.8330889119\nbestIteration = 699\n\n44:\tloss: 0.8330889\tbest: 0.8406013 (39)\ttotal: 3m 16s\tremaining: 1m 49s\n\nbestTest = 0.8357128479\nbestIteration = 699\n\n45:\tloss: 0.8357128\tbest: 0.8406013 (39)\ttotal: 3m 25s\tremaining: 1m 47s\n\nbestTest = 0.8400693007\nbestIteration = 699\n\n46:\tloss: 0.8400693\tbest: 0.8406013 (39)\ttotal: 3m 33s\tremaining: 1m 44s\n\nbestTest = 0.8379953129\nbestIteration = 699\n\n47:\tloss: 0.8379953\tbest: 0.8406013 (39)\ttotal: 3m 41s\tremaining: 1m 41s\n\nbestTest = 0.8265506384\nbestIteration = 699\n\n48:\tloss: 0.8265506\tbest: 0.8406013 (39)\ttotal: 3m 49s\tremaining: 1m 38s\n\nbestTest = 0.8171224408\nbestIteration = 799\n\n49:\tloss: 0.8171224\tbest: 0.8406013 (39)\ttotal: 4m\tremaining: 1m 36s\n\nbestTest = 0.8232904877\nbestIteration = 799\n\n50:\tloss: 0.8232905\tbest: 0.8406013 (39)\ttotal: 4m 9s\tremaining: 1m 33s\n\nbestTest = 0.8326432022\nbestIteration = 799\n\n51:\tloss: 0.8326432\tbest: 0.8406013 (39)\ttotal: 4m 19s\tremaining: 1m 29s\n\nbestTest = 0.834850184\nbestIteration = 799\n\n52:\tloss: 0.8348502\tbest: 0.8406013 (39)\ttotal: 4m 30s\tremaining: 1m 26s\n\nbestTest = 0.8404862549\nbestIteration = 799\n\n53:\tloss: 0.8404863\tbest: 0.8406013 (39)\ttotal: 4m 40s\tremaining: 1m 23s\n\nbestTest = 0.8379449908\nbestIteration = 799\n\n54:\tloss: 0.8379450\tbest: 0.8406013 (39)\ttotal: 4m 49s\tremaining: 1m 18s\n\nbestTest = 0.8283262882\nbestIteration = 799\n\n55:\tloss: 0.8283263\tbest: 0.8406013 (39)\ttotal: 4m 57s\tremaining: 1m 14s\n\nbestTest = 0.8137077295\nbestIteration = 899\n\n56:\tloss: 0.8137077\tbest: 0.8406013 (39)\ttotal: 5m 10s\tremaining: 1m 10s\n\nbestTest = 0.8214573269\nbestIteration = 899\n\n57:\tloss: 0.8214573\tbest: 0.8406013 (39)\ttotal: 5m 21s\tremaining: 1m 6s\n\nbestTest = 0.8317374051\nbestIteration = 899\n\n58:\tloss: 0.8317374\tbest: 0.8406013 (39)\ttotal: 5m 33s\tremaining: 1m 2s\n\nbestTest = 0.8328444905\nbestIteration = 899\n\n59:\tloss: 0.8328445\tbest: 0.8406013 (39)\ttotal: 5m 44s\tremaining: 57.4s\n\nbestTest = 0.8388615712\nbestIteration = 899\n\n60:\tloss: 0.8388616\tbest: 0.8406013 (39)\ttotal: 5m 54s\tremaining: 52.3s\n\nbestTest = 0.8380779848\nbestIteration = 899\n\n61:\tloss: 0.8380780\tbest: 0.8406013 (39)\ttotal: 6m 5s\tremaining: 47.1s\n\nbestTest = 0.8291673856\nbestIteration = 899\n\n62:\tloss: 0.8291674\tbest: 0.8406013 (39)\ttotal: 6m 15s\tremaining: 41.7s\n\nbestTest = 0.8116660916\nbestIteration = 999\n\n63:\tloss: 0.8116661\tbest: 0.8406013 (39)\ttotal: 6m 28s\tremaining: 36.4s\n\nbestTest = 0.8218095813\nbestIteration = 999\n\n64:\tloss: 0.8218096\tbest: 0.8406013 (39)\ttotal: 6m 41s\tremaining: 30.9s\n\nbestTest = 0.8312126179\nbestIteration = 999\n\n65:\tloss: 0.8312126\tbest: 0.8406013 (39)\ttotal: 6m 54s\tremaining: 25.1s\n\nbestTest = 0.8311263515\nbestIteration = 999\n\n66:\tloss: 0.8311264\tbest: 0.8406013 (39)\ttotal: 7m 7s\tremaining: 19.1s\n\nbestTest = 0.8376035197\nbestIteration = 999\n\n67:\tloss: 0.8376035\tbest: 0.8406013 (39)\ttotal: 7m 19s\tremaining: 12.9s\n\nbestTest = 0.8380060962\nbestIteration = 999\n\n68:\tloss: 0.8380061\tbest: 0.8406013 (39)\ttotal: 7m 31s\tremaining: 6.54s\n\nbestTest = 0.8302385266\nbestIteration = 999\n\n69:\tloss: 0.8302385\tbest: 0.8406013 (39)\ttotal: 7m 43s\tremaining: 0us\nEstimating final quality...\nTraining on fold [0/3]\n\nbestTest = 0.8580636335\nbestIteration = 599\n\nTraining on fold [1/3]\n\nbestTest = 0.8402517198\nbestIteration = 599\n\nTraining on fold [2/3]\n\nbestTest = 0.8460502364\nbestIteration = 599\n\n",
          "output_type": "stream"
        }
      ]
    },
    {
      "cell_type": "code",
      "source": [
        "bassboosting_model.score(X_test, Y_test)"
      ],
      "metadata": {
        "colab": {
          "base_uri": "https://localhost:8080/"
        },
        "id": "swHmSxiw0bIc",
        "outputId": "3c78d77e-1da2-4899-b4d0-044fd45b3ccc",
        "execution": {
          "iopub.status.busy": "2022-10-23T17:49:07.994914Z",
          "iopub.execute_input": "2022-10-23T17:49:07.995927Z",
          "iopub.status.idle": "2022-10-23T17:49:08.011549Z",
          "shell.execute_reply.started": "2022-10-23T17:49:07.995879Z",
          "shell.execute_reply": "2022-10-23T17:49:08.010313Z"
        },
        "trusted": true
      },
      "execution_count": null,
      "outputs": [
        {
          "execution_count": 38,
          "output_type": "execute_result",
          "data": {
            "text/plain": "0.7795648060548723"
          },
          "metadata": {}
        }
      ]
    },
    {
      "cell_type": "code",
      "source": [
        "bassboosting_model.get_params()"
      ],
      "metadata": {
        "execution": {
          "iopub.status.busy": "2022-10-23T17:52:49.870386Z",
          "iopub.execute_input": "2022-10-23T17:52:49.870916Z",
          "iopub.status.idle": "2022-10-23T17:52:49.881470Z",
          "shell.execute_reply.started": "2022-10-23T17:52:49.870865Z",
          "shell.execute_reply": "2022-10-23T17:52:49.879934Z"
        },
        "trusted": true,
        "id": "aaqKr8hhAKQy",
        "outputId": "73eb462f-5e1a-42e0-bbc6-61bbc18089e5"
      },
      "execution_count": null,
      "outputs": [
        {
          "execution_count": 40,
          "output_type": "execute_result",
          "data": {
            "text/plain": "{'random_seed': 42,\n 'silent': True,\n 'metric_period': 1000,\n 'eval_metric': 'AUC:hints=skip_train~false',\n 'cat_features': [3, 4, 5, 6, 7, 8, 9, 10, 11, 12, 13, 14, 15, 16, 17, 18],\n 'learning_rate': 0.02,\n 'iterations': 600.0}"
          },
          "metadata": {}
        }
      ]
    },
    {
      "cell_type": "markdown",
      "source": [
        "Выпишите какое лучшее качество и с какими параметрами вам удалось получить"
      ],
      "metadata": {
        "id": "rf4Kjt96EEZU"
      }
    },
    {
      "cell_type": "markdown",
      "source": [
        "Что-то бустинг подкачал! Будем использовать линейную регрессию."
      ],
      "metadata": {
        "id": "YYtGri3xM-C2"
      }
    },
    {
      "cell_type": "markdown",
      "source": [],
      "metadata": {
        "id": "d2d9GolXEEZV"
      }
    },
    {
      "cell_type": "markdown",
      "source": [
        "# Предсказания"
      ],
      "metadata": {
        "id": "dDMXbvNZEEZV"
      }
    },
    {
      "cell_type": "code",
      "source": [
        "best_model = model"
      ],
      "metadata": {
        "id": "G_P4wFNaEEZW",
        "execution": {
          "iopub.status.busy": "2022-10-23T17:53:10.949958Z",
          "iopub.execute_input": "2022-10-23T17:53:10.950528Z",
          "iopub.status.idle": "2022-10-23T17:53:10.956204Z",
          "shell.execute_reply.started": "2022-10-23T17:53:10.950481Z",
          "shell.execute_reply": "2022-10-23T17:53:10.954919Z"
        },
        "trusted": true
      },
      "execution_count": 29,
      "outputs": []
    },
    {
      "cell_type": "code",
      "source": [
        "#обработаем также тестовый датасет:\n",
        "tstdf = pd.read_csv(root+'test.csv')\n",
        "#удалим пробелы:\n",
        "tstdf = tstdf.replace(' ', '0')\n",
        "#проверим\n",
        "np.where(tstdf.applymap(lambda x: x == ' '))\n",
        "#приведем данные к числовому типу\n",
        "tstdf['TotalSpent'] = tstdf['TotalSpent'].astype('float64')"
      ],
      "metadata": {
        "id": "FfSufx0CEEZZ",
        "execution": {
          "iopub.status.busy": "2022-10-23T17:53:17.662360Z",
          "iopub.execute_input": "2022-10-23T17:53:17.662751Z",
          "iopub.status.idle": "2022-10-23T17:53:17.702374Z",
          "shell.execute_reply.started": "2022-10-23T17:53:17.662717Z",
          "shell.execute_reply": "2022-10-23T17:53:17.701174Z"
        },
        "trusted": true
      },
      "execution_count": 30,
      "outputs": []
    },
    {
      "cell_type": "code",
      "source": [
        "tstdf.info()"
      ],
      "metadata": {
        "id": "JvvFODWVAVYH",
        "execution": {
          "iopub.status.busy": "2022-10-23T17:53:19.693005Z",
          "iopub.execute_input": "2022-10-23T17:53:19.693432Z",
          "iopub.status.idle": "2022-10-23T17:53:19.715208Z",
          "shell.execute_reply.started": "2022-10-23T17:53:19.693393Z",
          "shell.execute_reply": "2022-10-23T17:53:19.714210Z"
        },
        "trusted": true,
        "colab": {
          "base_uri": "https://localhost:8080/"
        },
        "outputId": "ee043223-3fc0-477b-d363-b7d56d2f3823"
      },
      "execution_count": 31,
      "outputs": [
        {
          "output_type": "stream",
          "name": "stdout",
          "text": [
            "<class 'pandas.core.frame.DataFrame'>\n",
            "RangeIndex: 1761 entries, 0 to 1760\n",
            "Data columns (total 19 columns):\n",
            " #   Column                    Non-Null Count  Dtype  \n",
            "---  ------                    --------------  -----  \n",
            " 0   ClientPeriod              1761 non-null   int64  \n",
            " 1   MonthlySpending           1761 non-null   float64\n",
            " 2   TotalSpent                1761 non-null   float64\n",
            " 3   Sex                       1761 non-null   object \n",
            " 4   IsSeniorCitizen           1761 non-null   int64  \n",
            " 5   HasPartner                1761 non-null   object \n",
            " 6   HasChild                  1761 non-null   object \n",
            " 7   HasPhoneService           1761 non-null   object \n",
            " 8   HasMultiplePhoneNumbers   1761 non-null   object \n",
            " 9   HasInternetService        1761 non-null   object \n",
            " 10  HasOnlineSecurityService  1761 non-null   object \n",
            " 11  HasOnlineBackup           1761 non-null   object \n",
            " 12  HasDeviceProtection       1761 non-null   object \n",
            " 13  HasTechSupportAccess      1761 non-null   object \n",
            " 14  HasOnlineTV               1761 non-null   object \n",
            " 15  HasMovieSubscription      1761 non-null   object \n",
            " 16  HasContractPhone          1761 non-null   object \n",
            " 17  IsBillingPaperless        1761 non-null   object \n",
            " 18  PaymentMethod             1761 non-null   object \n",
            "dtypes: float64(2), int64(2), object(15)\n",
            "memory usage: 261.5+ KB\n"
          ]
        }
      ]
    },
    {
      "cell_type": "code",
      "source": [
        "tstdf_scaled = scaler.fit_transform(tstdf[num_cols])\n",
        "tstdf_encoded = pd.get_dummies(tstdf[cat_cols])\n",
        "Final_test = np.concatenate((tstdf_scaled, tstdf_encoded.to_numpy()), \n",
        "                            axis=1)\n"
      ],
      "metadata": {
        "id": "amfCSmT0TlSW",
        "execution": {
          "iopub.status.busy": "2022-10-23T17:53:28.805251Z",
          "iopub.execute_input": "2022-10-23T17:53:28.805721Z",
          "iopub.status.idle": "2022-10-23T17:53:28.838316Z",
          "shell.execute_reply.started": "2022-10-23T17:53:28.805678Z",
          "shell.execute_reply": "2022-10-23T17:53:28.837047Z"
        },
        "trusted": true
      },
      "execution_count": 32,
      "outputs": []
    },
    {
      "cell_type": "code",
      "source": [
        "submission = pd.read_csv(root+'submission.csv')\n"
      ],
      "metadata": {
        "id": "FCoBPI3qXxcj",
        "execution": {
          "iopub.status.busy": "2022-10-23T17:53:33.550053Z",
          "iopub.execute_input": "2022-10-23T17:53:33.550531Z",
          "iopub.status.idle": "2022-10-23T17:53:33.563159Z",
          "shell.execute_reply.started": "2022-10-23T17:53:33.550487Z",
          "shell.execute_reply": "2022-10-23T17:53:33.561792Z"
        },
        "trusted": true
      },
      "execution_count": 33,
      "outputs": []
    },
    {
      "cell_type": "code",
      "source": [
        "submission.shape"
      ],
      "metadata": {
        "id": "j7VDU6AfX5zT",
        "outputId": "cf28f93f-25c6-4c99-88a2-9ee0b2c8a2c2",
        "colab": {
          "base_uri": "https://localhost:8080/"
        },
        "execution": {
          "iopub.status.busy": "2022-10-23T17:53:36.831571Z",
          "iopub.execute_input": "2022-10-23T17:53:36.832451Z",
          "iopub.status.idle": "2022-10-23T17:53:36.839726Z",
          "shell.execute_reply.started": "2022-10-23T17:53:36.832367Z",
          "shell.execute_reply": "2022-10-23T17:53:36.838300Z"
        },
        "trusted": true
      },
      "execution_count": 34,
      "outputs": [
        {
          "output_type": "execute_result",
          "data": {
            "text/plain": [
              "(1761, 2)"
            ]
          },
          "metadata": {},
          "execution_count": 34
        }
      ]
    },
    {
      "cell_type": "code",
      "source": [
        "Final_test.shape"
      ],
      "metadata": {
        "colab": {
          "base_uri": "https://localhost:8080/"
        },
        "id": "HOxaqRk3V_Ag",
        "outputId": "51395bc7-9d9d-4b06-d5ee-b66b26ec60c1",
        "execution": {
          "iopub.status.busy": "2022-10-23T17:54:09.912948Z",
          "iopub.execute_input": "2022-10-23T17:54:09.913386Z",
          "iopub.status.idle": "2022-10-23T17:54:09.921396Z",
          "shell.execute_reply.started": "2022-10-23T17:54:09.913347Z",
          "shell.execute_reply": "2022-10-23T17:54:09.920201Z"
        },
        "trusted": true
      },
      "execution_count": 35,
      "outputs": [
        {
          "output_type": "execute_result",
          "data": {
            "text/plain": [
              "(1761, 45)"
            ]
          },
          "metadata": {},
          "execution_count": 35
        }
      ]
    },
    {
      "cell_type": "code",
      "source": [
        "best_model.predict_proba(Final_test)"
      ],
      "metadata": {
        "colab": {
          "base_uri": "https://localhost:8080/"
        },
        "id": "q_Y_9g_6S3lU",
        "outputId": "ff649053-1b48-4e12-b8f8-b0997fc555bb",
        "execution": {
          "iopub.status.busy": "2022-10-23T17:54:25.817557Z",
          "iopub.execute_input": "2022-10-23T17:54:25.817979Z",
          "iopub.status.idle": "2022-10-23T17:54:25.837591Z",
          "shell.execute_reply.started": "2022-10-23T17:54:25.817942Z",
          "shell.execute_reply": "2022-10-23T17:54:25.835976Z"
        },
        "trusted": true
      },
      "execution_count": 36,
      "outputs": [
        {
          "output_type": "execute_result",
          "data": {
            "text/plain": [
              "array([[0.96144148, 0.03855852],\n",
              "       [0.26808805, 0.73191195],\n",
              "       [0.32014532, 0.67985468],\n",
              "       ...,\n",
              "       [0.25574276, 0.74425724],\n",
              "       [0.3387134 , 0.6612866 ],\n",
              "       [0.99184063, 0.00815937]])"
            ]
          },
          "metadata": {},
          "execution_count": 36
        }
      ]
    },
    {
      "cell_type": "code",
      "source": [
        "predictions = best_model.predict_proba(Final_test)"
      ],
      "metadata": {
        "execution": {
          "iopub.status.busy": "2022-10-23T17:55:10.804746Z",
          "iopub.execute_input": "2022-10-23T17:55:10.805173Z",
          "iopub.status.idle": "2022-10-23T17:55:10.814233Z",
          "shell.execute_reply.started": "2022-10-23T17:55:10.805133Z",
          "shell.execute_reply": "2022-10-23T17:55:10.812563Z"
        },
        "trusted": true,
        "id": "3cghzAIjAKQ0"
      },
      "execution_count": 37,
      "outputs": []
    },
    {
      "cell_type": "code",
      "source": [
        "predictions[:, 1]"
      ],
      "metadata": {
        "execution": {
          "iopub.status.busy": "2022-10-23T17:56:02.735439Z",
          "iopub.execute_input": "2022-10-23T17:56:02.735874Z",
          "iopub.status.idle": "2022-10-23T17:56:02.744550Z",
          "shell.execute_reply.started": "2022-10-23T17:56:02.735831Z",
          "shell.execute_reply": "2022-10-23T17:56:02.743125Z"
        },
        "trusted": true,
        "colab": {
          "base_uri": "https://localhost:8080/"
        },
        "id": "criJLV-mAKQ0",
        "outputId": "28256b23-f11b-4953-8988-aee2798b9877"
      },
      "execution_count": 38,
      "outputs": [
        {
          "output_type": "execute_result",
          "data": {
            "text/plain": [
              "array([0.03855852, 0.73191195, 0.67985468, ..., 0.74425724, 0.6612866 ,\n",
              "       0.00815937])"
            ]
          },
          "metadata": {},
          "execution_count": 38
        }
      ]
    },
    {
      "cell_type": "code",
      "source": [
        "submission['Churn'] = predictions[:, 1]\n",
        "submission.to_csv(root+'my_submission.csv', index=False)"
      ],
      "metadata": {
        "id": "52ge4oH30jE6",
        "execution": {
          "iopub.status.busy": "2022-10-23T17:59:19.665617Z",
          "iopub.execute_input": "2022-10-23T17:59:19.666539Z",
          "iopub.status.idle": "2022-10-23T17:59:19.690981Z",
          "shell.execute_reply.started": "2022-10-23T17:59:19.666493Z",
          "shell.execute_reply": "2022-10-23T17:59:19.689293Z"
        },
        "trusted": true
      },
      "execution_count": 41,
      "outputs": []
    },
    {
      "cell_type": "markdown",
      "source": [
        "# Kaggle (5 баллов)\n",
        "\n",
        "Как выставить баллы:\n",
        "\n",
        "1) 1 >= roc auc > 0.84 это 5 баллов\n",
        "\n",
        "2) 0.84 >= roc auc > 0.7 это 3 балла\n",
        "\n",
        "3) 0.7 >= roc auc > 0.6 это 1 балл\n",
        "\n",
        "4) 0.6 >= roc auc это 0 баллов\n",
        "\n",
        "\n",
        "Для выполнения задания необходимо выполнить следующие шаги.\n",
        "* Зарегистрироваться на платформе [kaggle.com](kaggle.com). Процесс выставления оценок будет проходить при подведении итогового рейтинга. Пожалуйста, укажите во вкладке Team -> Team name свои имя и фамилию в формате Имя_Фамилия (важно, чтобы имя и фамилия совпадали с данными на Stepik).\n",
        "* Обучить модель, получить файл с ответами в формате .csv и сдать его в конкурс. Пробуйте и экспериментируйте. Обратите внимание, что вы можете выполнять до 20 попыток сдачи на kaggle в день.\n",
        "* После окончания соревнования отправить в итоговый ноутбук с решением на степик. \n",
        "* После дедлайна проверьте посылки других участников по критериям. Для этого надо зайти на степик, скачать их ноутбук и проверить скор в соревновании."
      ],
      "metadata": {
        "id": "mkxjbGkVEEZc"
      }
    }
  ]
}